{
 "cells": [
  {
   "cell_type": "markdown",
   "metadata": {},
   "source": [
    "# DB2python"
   ]
  },
  {
   "cell_type": "markdown",
   "metadata": {},
   "source": [
    "## Tilkobling"
   ]
  },
  {
   "cell_type": "code",
   "execution_count": 23,
   "metadata": {},
   "outputs": [],
   "source": [
    "import sqlite3\n",
    "con = sqlite3.connect(\"db2.db\")"
   ]
  },
  {
   "cell_type": "code",
   "execution_count": 24,
   "metadata": {},
   "outputs": [],
   "source": [
    "cursor = con.cursor()"
   ]
  },
  {
   "cell_type": "markdown",
   "metadata": {},
   "source": [
    "## Legge til eksisterende data"
   ]
  },
  {
   "cell_type": "markdown",
   "metadata": {},
   "source": [
    "##### 1) Vi ønsker å sette inn de to salene nevnt over, sammen med stoler, teaterstykker, forestillinger, akter, roller, skuespillere og andre medvirkende, slik det er beskrevet i teksten over. Dette kan implementeres i SQL. \n"
   ]
  },
  {
   "cell_type": "markdown",
   "metadata": {},
   "source": [
    "Sal:"
   ]
  },
  {
   "cell_type": "code",
   "execution_count": null,
   "metadata": {},
   "outputs": [],
   "source": [
    "cursor.execute('''INSERT INTO Sal VALUES('Hovedscenen', 516)''')\n",
    "con.commit()"
   ]
  },
  {
   "cell_type": "code",
   "execution_count": 25,
   "metadata": {},
   "outputs": [],
   "source": [
    "cursor.execute('''INSERT INTO Sal VALUES('Gamle scene', 332)''')\n",
    "con.commit()"
   ]
  },
  {
   "cell_type": "markdown",
   "metadata": {},
   "source": [
    "får ikke til å slette:"
   ]
  },
  {
   "cell_type": "code",
   "execution_count": 27,
   "metadata": {},
   "outputs": [
    {
     "data": {
      "text/plain": [
       "<sqlite3.Cursor at 0x22612beacc0>"
      ]
     },
     "execution_count": 27,
     "metadata": {},
     "output_type": "execute_result"
    }
   ],
   "source": [
    "cursor.execute(\"DELETE FROM Sal WHERE SalNavn = ? AND Kapasitet = ?\", ('Hovedscenen', 516)) \n"
   ]
  },
  {
   "cell_type": "markdown",
   "metadata": {},
   "source": [
    "Sete"
   ]
  },
  {
   "cell_type": "markdown",
   "metadata": {},
   "source": [
    "Seter på Hovedscenen"
   ]
  },
  {
   "cell_type": "code",
   "execution_count": 26,
   "metadata": {},
   "outputs": [],
   "source": [
    "for i in range(1, 524+1):\n",
    "    if 466<i<471 or 494<i<499:\n",
    "        continue\n",
    "    if i <= 504:\n",
    "        omraade = 'Parkett'\n",
    "        if i <= 28:\n",
    "            rad_nr = 1\n",
    "        elif i <= 56:\n",
    "            rad_nr = 2\n",
    "        elif i <= 84:\n",
    "            rad_nr = 3\n",
    "        elif i <= 112:\n",
    "            rad_nr = 4\n",
    "        elif i <= 140:\n",
    "            rad_nr = 5\n",
    "        elif i <= 168:\n",
    "            rad_nr = 6\n",
    "        elif i <= 196:\n",
    "            rad_nr = 7\n",
    "        elif i <= 224:\n",
    "            rad_nr = 8\n",
    "        elif i <= 252:\n",
    "            rad_nr = 9\n",
    "        elif i <= 280:\n",
    "            rad_nr = 10\n",
    "        elif i <= 308:\n",
    "            rad_nr = 11\n",
    "        elif i <= 336:\n",
    "            rad_nr = 12\n",
    "        elif i <= 364:\n",
    "            rad_nr = 13\n",
    "        elif i <= 392:\n",
    "            rad_nr = 14\n",
    "        elif i <= 420:\n",
    "            rad_nr = 15\n",
    "        elif i <= 448:\n",
    "            rad_nr = 16\n",
    "        elif i <= 476:\n",
    "            rad_nr = 17\n",
    "        else:\n",
    "            rad_nr = 18\n",
    "    else:\n",
    "        omraade = 'Galleri'\n",
    "        if i <= 514:\n",
    "            rad_nr = 19 #nedre galleri\n",
    "        else:\n",
    "            rad_nr = 20 #øvre galleri\n",
    "        \n",
    "\n",
    "    sete_nr = i\n",
    "    sete_id = int(f\"0{sete_nr}\")\n",
    "    sal_navn = 'Hovedscenen'  # Erstatt 'Ditt SalNavn' med det faktiske salnavnet\n",
    "\n",
    "    # Sett inn i databasen\n",
    "    cursor.execute('''INSERT INTO Sete VALUES(?, ?, ?, ?, ?)''', (sete_id, sete_nr, rad_nr, omraade, sal_navn))\n",
    "\n",
    "    con.commit()"
   ]
  },
  {
   "cell_type": "markdown",
   "metadata": {},
   "source": [
    "Teaterstykke"
   ]
  },
  {
   "cell_type": "code",
   "execution_count": null,
   "metadata": {},
   "outputs": [],
   "source": []
  },
  {
   "cell_type": "markdown",
   "metadata": {},
   "source": [
    "Forestilling"
   ]
  },
  {
   "cell_type": "code",
   "execution_count": null,
   "metadata": {},
   "outputs": [],
   "source": []
  },
  {
   "cell_type": "markdown",
   "metadata": {},
   "source": [
    "Akt"
   ]
  },
  {
   "cell_type": "code",
   "execution_count": null,
   "metadata": {},
   "outputs": [],
   "source": []
  },
  {
   "cell_type": "markdown",
   "metadata": {},
   "source": [
    "Rolle"
   ]
  },
  {
   "cell_type": "code",
   "execution_count": null,
   "metadata": {},
   "outputs": [],
   "source": []
  },
  {
   "cell_type": "markdown",
   "metadata": {},
   "source": [
    "Skuespiller"
   ]
  },
  {
   "cell_type": "code",
   "execution_count": null,
   "metadata": {},
   "outputs": [],
   "source": []
  },
  {
   "cell_type": "markdown",
   "metadata": {},
   "source": [
    "Ansatt"
   ]
  },
  {
   "cell_type": "code",
   "execution_count": null,
   "metadata": {},
   "outputs": [],
   "source": []
  },
  {
   "cell_type": "markdown",
   "metadata": {},
   "source": [
    "------------------------------------------------------\n",
    "## con.close skal stå på slutten"
   ]
  },
  {
   "cell_type": "code",
   "execution_count": 21,
   "metadata": {},
   "outputs": [],
   "source": [
    "cursor.close()\n",
    "con.close()"
   ]
  }
 ],
 "metadata": {
  "kernelspec": {
   "display_name": "Python 3 (ipykernel)",
   "language": "python",
   "name": "python3"
  },
  "language_info": {
   "codemirror_mode": {
    "name": "ipython",
    "version": 3
   },
   "file_extension": ".py",
   "mimetype": "text/x-python",
   "name": "python",
   "nbconvert_exporter": "python",
   "pygments_lexer": "ipython3",
   "version": "3.10.6"
  }
 },
 "nbformat": 4,
 "nbformat_minor": 2
}
