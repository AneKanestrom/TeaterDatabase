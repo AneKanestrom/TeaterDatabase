{
 "cells": [
  {
   "cell_type": "markdown",
   "metadata": {},
   "source": [
    "# DB2python"
   ]
  },
  {
   "cell_type": "markdown",
   "metadata": {},
   "source": [
    "## Tilkobling"
   ]
  },
  {
   "cell_type": "code",
   "execution_count": 1,
   "metadata": {},
   "outputs": [],
   "source": [
    "import sqlite3\n",
    "from hjelpefunk import *  \n",
    "con = sqlite3.connect(\"db2.db\")\n",
    "cursor = con.cursor()"
   ]
  },
  {
   "cell_type": "code",
   "execution_count": 2,
   "metadata": {},
   "outputs": [],
   "source": [
    "#eks sletting av rader\n",
    "\n",
    "#delete_rows(con, 'Sal', 'SalNavn', 'Hovedscenen')\n",
    "#delete_rows(con, 'Sal', 'SalNavn', 'GamleScene')\n",
    "\n",
    "#eks legge til rader \n",
    "#sal1 = ['test', 100]\n",
    "#insert_row(con, 'Sal', sal1)"
   ]
  },
  {
   "cell_type": "markdown",
   "metadata": {},
   "source": [
    "## Legge til eksisterende data"
   ]
  },
  {
   "cell_type": "markdown",
   "metadata": {},
   "source": [
    "##### 1) Vi ønsker å sette inn de to salene nevnt over, sammen med stoler, teaterstykker, forestillinger, akter, roller, skuespillere og andre medvirkende, slik det er beskrevet i teksten over. Dette kan implementeres i SQL. \n"
   ]
  },
  {
   "cell_type": "markdown",
   "metadata": {},
   "source": [
    "##### Sal"
   ]
  },
  {
   "cell_type": "code",
   "execution_count": 3,
   "metadata": {},
   "outputs": [],
   "source": [
    "cursor.execute('''INSERT INTO Sal VALUES('Hovedscenen', 516)''')\n",
    "cursor.execute('''INSERT INTO Sal VALUES('GamleScene', 332)''')\n",
    "con.commit()"
   ]
  },
  {
   "cell_type": "code",
   "execution_count": null,
   "metadata": {},
   "outputs": [],
   "source": []
  },
  {
   "cell_type": "markdown",
   "metadata": {},
   "source": [
    "##### AktTabell Akt(AktNr, AktNavn, TeaterstykkeNavn)"
   ]
  },
  {
   "cell_type": "code",
   "execution_count": 4,
   "metadata": {},
   "outputs": [
    {
     "ename": "IntegrityError",
     "evalue": "UNIQUE constraint failed: Akt.AktNr",
     "output_type": "error",
     "traceback": [
      "\u001b[0;31m---------------------------------------------------------------------------\u001b[0m",
      "\u001b[0;31mIntegrityError\u001b[0m                            Traceback (most recent call last)",
      "Cell \u001b[0;32mIn[4], line 1\u001b[0m\n\u001b[0;32m----> 1\u001b[0m \u001b[43mcursor\u001b[49m\u001b[38;5;241;43m.\u001b[39;49m\u001b[43mexecute\u001b[49m\u001b[43m(\u001b[49m\u001b[38;5;124;43m'''\u001b[39;49m\u001b[38;5;124;43mINSERT INTO Akt VALUES(1, \u001b[39;49m\u001b[38;5;124;43m'\u001b[39;49m\u001b[38;5;124;43mAktEn\u001b[39;49m\u001b[38;5;124;43m'\u001b[39;49m\u001b[38;5;124;43m, \u001b[39;49m\u001b[38;5;124;43m'\u001b[39;49m\u001b[38;5;124;43mHovedscenen\u001b[39;49m\u001b[38;5;124;43m'\u001b[39;49m\u001b[38;5;124;43m)\u001b[39;49m\u001b[38;5;124;43m'''\u001b[39;49m\u001b[43m)\u001b[49m\n\u001b[1;32m      2\u001b[0m cursor\u001b[38;5;241m.\u001b[39mexecute(\u001b[38;5;124m'''\u001b[39m\u001b[38;5;124mINSERT INTO Akt VALUES(2, \u001b[39m\u001b[38;5;124m'\u001b[39m\u001b[38;5;124mAktTo\u001b[39m\u001b[38;5;124m'\u001b[39m\u001b[38;5;124m, \u001b[39m\u001b[38;5;124m'\u001b[39m\u001b[38;5;124mHovedscenen\u001b[39m\u001b[38;5;124m'\u001b[39m\u001b[38;5;124m)\u001b[39m\u001b[38;5;124m'''\u001b[39m)\n\u001b[1;32m      3\u001b[0m cursor\u001b[38;5;241m.\u001b[39mexecute(\u001b[38;5;124m'''\u001b[39m\u001b[38;5;124mINSERT INTO Akt VALUES(3, \u001b[39m\u001b[38;5;124m'\u001b[39m\u001b[38;5;124mAktTre\u001b[39m\u001b[38;5;124m'\u001b[39m\u001b[38;5;124m, \u001b[39m\u001b[38;5;124m'\u001b[39m\u001b[38;5;124mHovedscenen\u001b[39m\u001b[38;5;124m'\u001b[39m\u001b[38;5;124m)\u001b[39m\u001b[38;5;124m'''\u001b[39m)\n",
      "\u001b[0;31mIntegrityError\u001b[0m: UNIQUE constraint failed: Akt.AktNr"
     ]
    }
   ],
   "source": [
    "cursor.execute('''INSERT INTO Akt VALUES(1, 'AktEn', 'Hovedscenen')''')\n",
    "cursor.execute('''INSERT INTO Akt VALUES(2, 'AktTo', 'Hovedscenen')''')\n",
    "cursor.execute('''INSERT INTO Akt VALUES(3, 'AktTre', 'Hovedscenen')''')\n",
    "cursor.execute('''INSERT INTO Akt VALUES(4, 'AktFire', 'Hovedscenen')''')\n",
    "cursor.execute('''INSERT INTO Akt VALUES(5, 'AktFem', 'Hovedscenen')''')\n",
    "#cursor.execute('''INSERT INTO Akt VALUES(1, NULL, 'GamleScene')''')\n",
    "con.commit()"
   ]
  },
  {
   "cell_type": "markdown",
   "metadata": {},
   "source": [
    "##### "
   ]
  },
  {
   "cell_type": "code",
   "execution_count": null,
   "metadata": {},
   "outputs": [],
   "source": []
  },
  {
   "cell_type": "code",
   "execution_count": null,
   "metadata": {},
   "outputs": [],
   "source": [
    "#cursor.close()\n",
    "#con.close()"
   ]
  }
 ],
 "metadata": {
  "kernelspec": {
   "display_name": "Python 3 (ipykernel)",
   "language": "python",
   "name": "python3"
  },
  "language_info": {
   "codemirror_mode": {
    "name": "ipython",
    "version": 3
   },
   "file_extension": ".py",
   "mimetype": "text/x-python",
   "name": "python",
   "nbconvert_exporter": "python",
   "pygments_lexer": "ipython3",
   "version": "3.9.6"
  }
 },
 "nbformat": 4,
 "nbformat_minor": 2
}
