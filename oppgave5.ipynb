{
 "cells": [
  {
   "cell_type": "markdown",
   "metadata": {},
   "source": [
    "# Oppskrift\n",
    "\n",
    "Kjør alt for å\n",
    "1. Legge til data i RolleStykke og SkuespillerRolle \n",
    "2. Finne hvilke skuespillere som opptrer i de forskjellige teaterstykkene"
   ]
  },
  {
   "cell_type": "markdown",
   "metadata": {},
   "source": [
    "#### Tilkobling"
   ]
  },
  {
   "cell_type": "code",
   "execution_count": 1,
   "metadata": {},
   "outputs": [],
   "source": [
    "import sqlite3\n",
    "from hjelpefunk import *  \n",
    "con = sqlite3.connect(\"db_01.db\")\n",
    "cursor = con.cursor()"
   ]
  },
  {
   "cell_type": "markdown",
   "metadata": {},
   "source": [
    "# Oppgave 5"
   ]
  },
  {
   "cell_type": "markdown",
   "metadata": {},
   "source": [
    "\n",
    "Vi ønsker å lage et query i SQL som finner hvilke (navn på) skuespillere som opptrer i de forskjellige teaterstykkene. Skriv ut navn på teaterstykke, navn på skuespiller og rolle. \n"
   ]
  },
  {
   "cell_type": "markdown",
   "metadata": {},
   "source": [
    "### Legge til i database"
   ]
  },
  {
   "cell_type": "code",
   "execution_count": 3,
   "metadata": {},
   "outputs": [],
   "source": [
    "#RolleStykke(RolleID, \"TeaterstykkeNavn\")\n",
    "teaternavn = 'Kongsemnene'\n",
    "\n",
    "for i in range(1, 17):\n",
    "    cursor.execute('''INSERT INTO RolleStykke VALUES(?, ?)''', (i, teaternavn))\n",
    "\n",
    "\n",
    "teaternavn2 = 'Storst av alt er kjaerligheten'\n",
    "\n",
    "for i in range(17, 24):\n",
    "    cursor.execute('''INSERT INTO RolleStykke VALUES(?, ?)''', (i, teaternavn2))\n",
    "\n",
    "con.commit()"
   ]
  },
  {
   "cell_type": "code",
   "execution_count": 8,
   "metadata": {},
   "outputs": [],
   "source": [
    "#SkuespillerRolle(SkuespillerID, RolleID, Dato)\n",
    "dato = '2024-02-03'\n",
    "\n",
    "#Hovedscenen\n",
    "SkuespillerRolle1 = [1,1, dato,]\n",
    "SkuespillerRolle2 = [2,2, dato,]\n",
    "SkuespillerRolle3 = [3,3, dato,]\n",
    "SkuespillerRolle4 = [4,4, dato,]\n",
    "SkuespillerRolle5 = [5,5, dato,]\n",
    "SkuespillerRolle6 = [6,6, dato,]\n",
    "SkuespillerRolle7 = [6,7, dato,]\n",
    "SkuespillerRolle8 = [7,8, dato,]\n",
    "SkuespillerRolle9 = [8,9, dato,]\n",
    "SkuespillerRolle10 = [9,10, dato,]\n",
    "SkuespillerRolle11 = [9,11, dato,]\n",
    "SkuespillerRolle12 = [10,12, dato,]\n",
    "SkuespillerRolle13 = [10,13, dato,]\n",
    "SkuespillerRolle14 = [11,14, dato,]\n",
    "SkuespillerRolle15 = [11,15, dato,]\n",
    "SkuespillerRolle16 = [12,16, dato,]\n",
    "\n",
    "insert_row(con, 'SkuespillerRolle', SkuespillerRolle1)\n",
    "insert_row(con, 'SkuespillerRolle', SkuespillerRolle2)\n",
    "insert_row(con, 'SkuespillerRolle', SkuespillerRolle3)\n",
    "insert_row(con, 'SkuespillerRolle', SkuespillerRolle4)\n",
    "insert_row(con, 'SkuespillerRolle', SkuespillerRolle5)\n",
    "insert_row(con, 'SkuespillerRolle', SkuespillerRolle6)\n",
    "insert_row(con, 'SkuespillerRolle', SkuespillerRolle7)\n",
    "insert_row(con, 'SkuespillerRolle', SkuespillerRolle8)\n",
    "insert_row(con, 'SkuespillerRolle', SkuespillerRolle9)\n",
    "insert_row(con, 'SkuespillerRolle', SkuespillerRolle10)\n",
    "insert_row(con, 'SkuespillerRolle', SkuespillerRolle11)\n",
    "insert_row(con, 'SkuespillerRolle', SkuespillerRolle12)\n",
    "insert_row(con, 'SkuespillerRolle', SkuespillerRolle13)\n",
    "insert_row(con, 'SkuespillerRolle', SkuespillerRolle14)\n",
    "insert_row(con, 'SkuespillerRolle', SkuespillerRolle15)\n",
    "insert_row(con, 'SkuespillerRolle', SkuespillerRolle16)\n",
    "\n",
    "#Gamle scene\n",
    "SkuespillerRolle17 = [13,17, dato,]\n",
    "SkuespillerRolle18 = [14,18, dato,]\n",
    "SkuespillerRolle19 = [15,19, dato,]\n",
    "SkuespillerRolle20 = [16,20, dato,]\n",
    "SkuespillerRolle21 = [17,21, dato,]\n",
    "SkuespillerRolle22 = [18,22, dato,]\n",
    "SkuespillerRolle23 = [19,23, dato,]\n",
    "\n",
    "insert_row(con, 'SkuespillerRolle', SkuespillerRolle17)\n",
    "insert_row(con, 'SkuespillerRolle', SkuespillerRolle18)\n",
    "insert_row(con, 'SkuespillerRolle', SkuespillerRolle19)\n",
    "insert_row(con, 'SkuespillerRolle', SkuespillerRolle20)\n",
    "insert_row(con, 'SkuespillerRolle', SkuespillerRolle21)\n",
    "insert_row(con, 'SkuespillerRolle', SkuespillerRolle22)\n",
    "insert_row(con, 'SkuespillerRolle', SkuespillerRolle23)\n"
   ]
  },
  {
   "cell_type": "markdown",
   "metadata": {},
   "source": [
    "### SQL-spørring"
   ]
  },
  {
   "cell_type": "code",
   "execution_count": 4,
   "metadata": {},
   "outputs": [
    {
     "name": "stdout",
     "output_type": "stream",
     "text": [
      "Teaterstykke: Kongsemnene, Skuespiller: Arturo Scotti, Rolle: Haakon Haakonssonn\n",
      "Teaterstykke: Kongsemnene, Skuespiller: Ingunn Beate Strige Oyen, Rolle: Inga fra Vartjeg\n",
      "Teaterstykke: Kongsemnene, Skuespiller: Hans Petter Nilsen, Rolle: Skule Jarl\n",
      "Teaterstykke: Kongsemnene, Skuespiller: Madeleine Brandtzaeg Nilsen, Rolle: Ragnhild\n",
      "Teaterstykke: Kongsemnene, Skuespiller: Synnove Fossum Eriksen, Rolle: Margrete\n",
      "Teaterstykke: Kongsemnene, Skuespiller: Emma Caroline Deichmann, Rolle: Sigrid\n",
      "Teaterstykke: Kongsemnene, Skuespiller: Emma Caroline Deichmann, Rolle: Ingebjorg\n",
      "Teaterstykke: Kongsemnene, Skuespiller: Thomas Jensen Takyi, Rolle: Biskop Nikolas\n",
      "Teaterstykke: Kongsemnene, Skuespiller: Per Bogstad Gulliksen, Rolle: Gregorius Jonssonn\n",
      "Teaterstykke: Kongsemnene, Skuespiller: Isak Holmen Sorensen, Rolle: Paal Flida\n",
      "Teaterstykke: Kongsemnene, Skuespiller: Isak Holmen Sorensen, Rolle: Tronder\n",
      "Teaterstykke: Kongsemnene, Skuespiller: Fabian Heidelberg Lunde, Rolle: Baard Bratte\n",
      "Teaterstykke: Kongsemnene, Skuespiller: Fabian Heidelberg Lunde, Rolle: Tronder\n",
      "Teaterstykke: Kongsemnene, Skuespiller: Emil Olafsson, Rolle: Jatgeir Skald\n",
      "Teaterstykke: Kongsemnene, Skuespiller: Emil Olafsson, Rolle: Dagfinn Bonde\n",
      "Teaterstykke: Kongsemnene, Skuespiller: Snorre Ryen Tondel, Rolle: Peter\n",
      "Teaterstykke: Storst av alt er kjaerligheten, Skuespiller: Sunniva Du Mond Nordal, Rolle: Sunniva Du Mond Nordal\n",
      "Teaterstykke: Storst av alt er kjaerligheten, Skuespiller: Jo Saberniak, Rolle: Jo Saberniak\n",
      "Teaterstykke: Storst av alt er kjaerligheten, Skuespiller: Marte M. Steinholt, Rolle: Marte M. Steinholt\n",
      "Teaterstykke: Storst av alt er kjaerligheten, Skuespiller: Tor Ivar Hagen, Rolle: Tor Ivar Hagen\n",
      "Teaterstykke: Storst av alt er kjaerligheten, Skuespiller: Trond-Ove Skrodal, Rolle: Trond-Ove Skrodal\n",
      "Teaterstykke: Storst av alt er kjaerligheten, Skuespiller: Natalie Grondahl Tangen, Rolle: Natalie Grondahl Tangen\n",
      "Teaterstykke: Storst av alt er kjaerligheten, Skuespiller: Aasmund Flaten, Rolle: Aasmund Flaten\n"
     ]
    }
   ],
   "source": [
    "sql = f''' \n",
    "        SELECT\n",
    "            Teaterstykke.TeaterstykkeNavn AS Teaterstykke,\n",
    "            Skuespiller.SkuespillerNavn AS Skuespiller,\n",
    "            Rolle.RolleNavn AS Rolle\n",
    "        FROM\n",
    "            SkuespillerRolle\n",
    "        JOIN Skuespiller ON SkuespillerRolle.SkuespillerID = Skuespiller.SkuespillerID\n",
    "        JOIN Rolle ON SkuespillerRolle.RolleID = Rolle.RolleID\n",
    "        JOIN RolleStykke ON SkuespillerRolle.RolleID = RolleStykke.RolleID\n",
    "        JOIN Teaterstykke ON RolleStykke.TeaterstykkeNavn = Teaterstykke.TeaterstykkeNavn;\n",
    "\n",
    "'''\n",
    "cursor.execute(sql)\n",
    "\n",
    "# Henter alle resultatene fra spørringen\n",
    "result = cursor.fetchall()\n",
    "\n",
    "# Gå gjennom hvert resultat og skriver ut teaterstykke, skuespiller og rolle som hører sammen\n",
    "for row in result:\n",
    "    teaterstykke = row[0]\n",
    "    skuespiller = row[1]\n",
    "    rolle = row[2]\n",
    "    print(f\"Teaterstykke: {teaterstykke}, Skuespiller: {skuespiller}, Rolle: {rolle}\")\n",
    "\n"
   ]
  },
  {
   "cell_type": "code",
   "execution_count": 28,
   "metadata": {},
   "outputs": [],
   "source": [
    "cursor.close()\n",
    "con.close()"
   ]
  }
 ],
 "metadata": {
  "kernelspec": {
   "display_name": "Python 3",
   "language": "python",
   "name": "python3"
  },
  "language_info": {
   "codemirror_mode": {
    "name": "ipython",
    "version": 3
   },
   "file_extension": ".py",
   "mimetype": "text/x-python",
   "name": "python",
   "nbconvert_exporter": "python",
   "pygments_lexer": "ipython3",
   "version": "3.10.6"
  }
 },
 "nbformat": 4,
 "nbformat_minor": 2
}
