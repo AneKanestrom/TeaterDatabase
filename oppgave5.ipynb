{
 "cells": [
  {
   "cell_type": "markdown",
   "metadata": {},
   "source": [
    "# Oppgave 5"
   ]
  },
  {
   "cell_type": "markdown",
   "metadata": {},
   "source": [
    "\n",
    "Vi ønsker å lage et query i SQL som finner hvilke (navn på) skuespillere som opptrer i de forskjellige teaterstykkene. Skriv ut navn på teaterstykke, navn på skuespiller og rolle. \n"
   ]
  },
  {
   "cell_type": "code",
   "execution_count": 1,
   "metadata": {},
   "outputs": [],
   "source": [
    "import sqlite3\n",
    "from hjelpefunk import *  \n",
    "con = sqlite3.connect(\"db_01.db\")\n",
    "cursor = con.cursor()"
   ]
  },
  {
   "cell_type": "code",
   "execution_count": 4,
   "metadata": {},
   "outputs": [],
   "source": [
    "#RolleStykke(RolleID, \"TeaterstykkeNavn\")\n",
    "cursor.execute('''INSERT INTO RolleStykke VALUES(1, 'Kongsemnene')''')\n",
    "cursor.execute('''INSERT INTO RolleStykke VALUES(2, 'Størst av alt er kjærligheten')''')\n",
    "\n",
    "con.commit()"
   ]
  },
  {
   "cell_type": "code",
   "execution_count": 2,
   "metadata": {},
   "outputs": [],
   "source": [
    "# #Teaterstykke(\"TeaterstykkeNavn\")\n",
    "# cursor.execute('''INSERT INTO Teaterstykke VALUES('Kongsemnene')''')\n",
    "# cursor.execute('''INSERT INTO Teaterstykke VALUES('Størst av alt er kjærligheten')''')\n",
    "# con.commit()"
   ]
  },
  {
   "cell_type": "code",
   "execution_count": 8,
   "metadata": {},
   "outputs": [],
   "source": [
    "#SkuespillerRolle(SkuespillerID, RolleID, Dato)\n",
    "dato = '2024-02-03'\n",
    "\n",
    "#Hovedscenen\n",
    "SkuespillerRolle1 = [1,1, dato,]\n",
    "SkuespillerRolle2 = [2,2, dato,]\n",
    "SkuespillerRolle3 = [3,3, dato,]\n",
    "SkuespillerRolle4 = [4,4, dato,]\n",
    "SkuespillerRolle5 = [5,5, dato,]\n",
    "SkuespillerRolle6 = [6,6, dato,]\n",
    "SkuespillerRolle7 = [6,7, dato,]\n",
    "SkuespillerRolle8 = [7,8, dato,]\n",
    "SkuespillerRolle9 = [8,9, dato,]\n",
    "SkuespillerRolle10 = [9,10, dato,]\n",
    "SkuespillerRolle11 = [9,11, dato,]\n",
    "SkuespillerRolle12 = [10,12, dato,]\n",
    "SkuespillerRolle13 = [10,13, dato,]\n",
    "SkuespillerRolle14 = [11,14, dato,]\n",
    "SkuespillerRolle15 = [11,15, dato,]\n",
    "SkuespillerRolle16 = [12,16, dato,]\n",
    "\n",
    "insert_row(con, 'SkuespillerRolle', SkuespillerRolle1)\n",
    "insert_row(con, 'SkuespillerRolle', SkuespillerRolle2)\n",
    "insert_row(con, 'SkuespillerRolle', SkuespillerRolle3)\n",
    "insert_row(con, 'SkuespillerRolle', SkuespillerRolle4)\n",
    "insert_row(con, 'SkuespillerRolle', SkuespillerRolle5)\n",
    "insert_row(con, 'SkuespillerRolle', SkuespillerRolle6)\n",
    "insert_row(con, 'SkuespillerRolle', SkuespillerRolle7)\n",
    "insert_row(con, 'SkuespillerRolle', SkuespillerRolle8)\n",
    "insert_row(con, 'SkuespillerRolle', SkuespillerRolle9)\n",
    "insert_row(con, 'SkuespillerRolle', SkuespillerRolle10)\n",
    "insert_row(con, 'SkuespillerRolle', SkuespillerRolle11)\n",
    "insert_row(con, 'SkuespillerRolle', SkuespillerRolle12)\n",
    "insert_row(con, 'SkuespillerRolle', SkuespillerRolle13)\n",
    "insert_row(con, 'SkuespillerRolle', SkuespillerRolle14)\n",
    "insert_row(con, 'SkuespillerRolle', SkuespillerRolle15)\n",
    "insert_row(con, 'SkuespillerRolle', SkuespillerRolle16)\n",
    "\n",
    "#Gamle scene\n",
    "SkuespillerRolle17 = [13,17, dato,]\n",
    "SkuespillerRolle18 = [14,18, dato,]\n",
    "SkuespillerRolle19 = [15,19, dato,]\n",
    "SkuespillerRolle20 = [16,20, dato,]\n",
    "SkuespillerRolle21 = [17,21, dato,]\n",
    "SkuespillerRolle22 = [18,22, dato,]\n",
    "SkuespillerRolle23 = [19,23, dato,]\n",
    "\n",
    "insert_row(con, 'SkuespillerRolle', SkuespillerRolle17)\n",
    "insert_row(con, 'SkuespillerRolle', SkuespillerRolle18)\n",
    "insert_row(con, 'SkuespillerRolle', SkuespillerRolle19)\n",
    "insert_row(con, 'SkuespillerRolle', SkuespillerRolle20)\n",
    "insert_row(con, 'SkuespillerRolle', SkuespillerRolle21)\n",
    "insert_row(con, 'SkuespillerRolle', SkuespillerRolle22)\n",
    "insert_row(con, 'SkuespillerRolle', SkuespillerRolle23)\n"
   ]
  },
  {
   "cell_type": "code",
   "execution_count": 2,
   "metadata": {},
   "outputs": [
    {
     "name": "stdout",
     "output_type": "stream",
     "text": [
      "[('Kongsemnene', 'Arturo Scotti', 'Haakon Haakonssonn'), ('Størst av alt er kjærligheten', 'Ingunn Beate Strige Oyen', 'Inga fra Vartjeg')]\n"
     ]
    }
   ],
   "source": [
    "# # def get_teaterstykke_skuespiller_rolle()  :\n",
    "# sql = f'''  \n",
    "#     SELECT Teaterstykke.TeaterstykkeNavn AS Teaterstykke,\n",
    "#                     Skuespiller.SkuespillerNavn AS Skuespiller,\n",
    "#                     Rolle.RolleNavn AS Rolle\n",
    "#     FROM Teaterstykke\n",
    "#     JOIN RolleStykke ON Teaterstykke.TeaterstykkeNavn = RolleStykke.TeaterstykkeNavn\n",
    "#     JOIN Rolle ON RolleStykke.RolleID = Rolle.RolleID\n",
    "#     JOIN SkuespillerRolle ON Rolle.RolleID = SkuespillerRolle.RolleID\n",
    "#     JOIN Skuespiller ON SkuespillerRolle.SkuespillerID = Skuespiller.SkuespillerID\n",
    "#     GROUP BY Teaterstykke.TeaterstykkeNavn;\n",
    "#     '''\n",
    "# # sql = f'''\n",
    "#     SELECT Teaterstykke.TeaterstykkeNavn AS Teaterstykke,\n",
    "#         Skuespiller.SkuespillerNavn AS Skuespiller,\n",
    "#         Rolle.RolleNavn AS Rolle\n",
    "#     FROM Teaterstykke\n",
    "#     JOIN RolleStykke ON Teaterstykke.TeaterstykkeNavn = RolleStykke.TeaterstykkeNavn\n",
    "#     JOIN Rolle ON RolleStykke.RolleID = Rolle.RolleID\n",
    "#     JOIN SkuespillerRolle ON Rolle.RolleID = SkuespillerRolle.RolleID\n",
    "#     JOIN Skuespiller ON SkuespillerRolle.SkuespillerID = Skuespiller.SkuespillerID\n",
    "#     ORDER BY Teaterstykke.TeaterstykkeNavn;\n",
    "#     '''\n",
    "\n",
    "sql = f'''SELECT Teaterstykke.TeaterstykkeNavn AS Teaterstykke,\n",
    "            Skuespiller.SkuespillerNavn AS Skuespiller,\n",
    "            Rolle.RolleNavn AS Rolle\n",
    "    FROM Rolle\n",
    "    JOIN RolleStykke ON Rolle.RolleID = RolleStykke.RolleID\n",
    "    JOIN Teaterstykke ON Teaterstykke.TeaterstykkeNavn = RolleStykke.TeaterstykkeNavn\n",
    "    JOIN SkuespillerRolle ON Rolle.RolleID = SkuespillerRolle.RolleID\n",
    "    JOIN Skuespiller ON SkuespillerRolle.SkuespillerID = Skuespiller.SkuespillerID\n",
    "    \n",
    "    '''\n",
    "\n",
    "\n",
    "# sql = f'''    \n",
    "#         SELECT Teaterstykke.TeaterstykkeNavn AS Teaterstykke,\n",
    "#             GROUP_CONCAT(Skuespiller.SkuespillerNavn) AS Skuespillere,\n",
    "#             GROUP_CONCAT(Rolle.RolleNavn) AS Roller\n",
    "#         FROM Rolle\n",
    "#         JOIN RolleStykke ON Rolle.RolleID = RolleStykke.RolleID\n",
    "#         JOIN Teaterstykke ON Teaterstykke.TeaterstykkeNavn = RolleStykke.TeaterstykkeNavn\n",
    "#         JOIN SkuespillerRolle ON Rolle.RolleID = SkuespillerRolle.RolleID\n",
    "#         JOIN Skuespiller ON SkuespillerRolle.SkuespillerID = Skuespiller.SkuespillerID\n",
    "#         GROUP BY Teaterstykke.TeaterstykkeNavn;\n",
    "\n",
    "#         '''\n",
    "\n",
    "# ORDER BY Teaterstykke.TeaterstykkeNavn;\n",
    "# kjører SQL-spørringen\n",
    "cursor.execute(sql)\n",
    "\n",
    "# Henter alle resultatene fra spørringen\n",
    "result = cursor.fetchall()\n",
    "print(result)\n",
    "\n",
    "# Gå gjennom hvert resultat og skriver ut teaterstykke, skuespiller og rolle som hører sammen\n",
    "# for row in result:\n",
    "#     teaterstykke = row[]\n",
    "#     skuespiller = row[]\n",
    "#     rolle = row[]\n",
    "#     print(f\"Teaterstykke: {teaterstykke}, Skuespiller: {skuespiller}, Rolle: {rolle}\")"
   ]
  },
  {
   "cell_type": "code",
   "execution_count": 40,
   "metadata": {},
   "outputs": [],
   "source": [
    "cursor.close()\n",
    "con.close()"
   ]
  }
 ],
 "metadata": {
  "kernelspec": {
   "display_name": "Python 3",
   "language": "python",
   "name": "python3"
  },
  "language_info": {
   "codemirror_mode": {
    "name": "ipython",
    "version": 3
   },
   "file_extension": ".py",
   "mimetype": "text/x-python",
   "name": "python",
   "nbconvert_exporter": "python",
   "pygments_lexer": "ipython3",
   "version": "3.10.6"
  }
 },
 "nbformat": 4,
 "nbformat_minor": 2
}
