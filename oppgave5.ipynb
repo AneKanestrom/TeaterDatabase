{
 "cells": [
  {
   "cell_type": "markdown",
   "metadata": {},
   "source": [
    "# Oppgave 5"
   ]
  },
  {
   "cell_type": "markdown",
   "metadata": {},
   "source": [
    "\n",
    "Vi ønsker å lage et query i SQL som finner hvilke (navn på) skuespillere som opptrer i de forskjellige teaterstykkene. Skriv ut navn på teaterstykke, navn på skuespiller og rolle. \n"
   ]
  },
  {
   "cell_type": "code",
   "execution_count": 1,
   "metadata": {},
   "outputs": [],
   "source": [
    "import sqlite3\n",
    "from hjelpefunk import *  \n",
    "con = sqlite3.connect(\"db_01.db\")\n",
    "cursor = con.cursor()"
   ]
  },
  {
   "cell_type": "code",
   "execution_count": null,
   "metadata": {},
   "outputs": [],
   "source": [
    "#RolleStykke(RolleID, \"TeaterstykkeNavn\")\n",
    "cursor.execute('''INSERT INTO RolleStykke VALUES(1, 'Hovedscenen')''')\n",
    "\n",
    "con.commit()"
   ]
  },
  {
   "cell_type": "code",
   "execution_count": null,
   "metadata": {},
   "outputs": [],
   "source": [
    "#Teaterstykke(\"TeaterstykkeNavn\")\n",
    "cursor.execute('''INSERT INTO Teaterstykke VALUES('Kongsemnene')''')\n",
    "cursor.execute('''INSERT INTO Teaterstykke VALUES('Størst av alt er kjærligheten')''')\n",
    "con.commit()"
   ]
  },
  {
   "cell_type": "code",
   "execution_count": null,
   "metadata": {},
   "outputs": [],
   "source": [
    "#SkuespillerRolle(SkuespillerID, RolleID, Dato)\n",
    "\n",
    "con.commit()"
   ]
  },
  {
   "cell_type": "code",
   "execution_count": null,
   "metadata": {},
   "outputs": [],
   "source": [
    "# def get_teaterstykke_skuespiller_rolle()  :\n",
    "sql = f'''  \n",
    "    SELECT DISTINCT Teaterstykke.TeaterstykkeNavn AS Teaterstykke,\n",
    "                    Skuespiller.SkuespillerNavn AS Skuespiller,\n",
    "                    Rolle.RolleNavn AS Rolle\n",
    "    FROM Teaterstykke\n",
    "    JOIN RolleStykke ON Teaterstykke.TeaterstykkeNavn = RolleStykke.TeaterstykkeNavn\n",
    "    JOIN Rolle ON RolleStykke.RolleID = Rolle.RolleID\n",
    "    JOIN SkuespillerRolle ON Rolle.RolleID = SkuespillerRolle.RolleID\n",
    "    JOIN Skuespiller ON SkuespillerRolle.SkuespillerID = Skuespiller.SkuespillerID;\n",
    "    '''\n",
    "\n",
    "# kjører SQL-spørringen\n",
    "cursor.execute(sql)\n",
    "\n",
    "# Henter alle resultatene fra spørringen\n",
    "result = cursor.fetchall()\n",
    "\n",
    "# Gå gjennom hvert resultat og skriver ut teaterstykke, skuespiller og rolle som hører sammen\n",
    "for row in result:\n",
    "    teaterstykke = row['Teaterstykke']\n",
    "    skuespiller = row['Skuespiller']\n",
    "    rolle = row['Rolle']\n",
    "    print(f\"Teaterstykke: {teaterstykke}, Skuespiller: {skuespiller}, Rolle: {rolle}\")"
   ]
  },
  {
   "cell_type": "code",
   "execution_count": null,
   "metadata": {},
   "outputs": [],
   "source": [
    "cursor.close()\n",
    "con.close()"
   ]
  }
 ],
 "metadata": {
  "kernelspec": {
   "display_name": "Python 3",
   "language": "python",
   "name": "python3"
  },
  "language_info": {
   "codemirror_mode": {
    "name": "ipython",
    "version": 3
   },
   "file_extension": ".py",
   "mimetype": "text/x-python",
   "name": "python",
   "nbconvert_exporter": "python",
   "pygments_lexer": "ipython3",
   "version": "3.10.6"
  }
 },
 "nbformat": 4,
 "nbformat_minor": 2
}
