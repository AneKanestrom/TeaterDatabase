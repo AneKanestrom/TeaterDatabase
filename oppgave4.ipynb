{
 "cells": [
  {
   "cell_type": "markdown",
   "metadata": {},
   "source": [
    "# Oppskrift\n",
    "\n",
    "Trykk \"run all\", og skriv inn ønsket dato. Eksempeldata: 2024-02-03\n"
   ]
  },
  {
   "cell_type": "markdown",
   "metadata": {},
   "source": [
    "#### Tilkobling"
   ]
  },
  {
   "cell_type": "code",
   "execution_count": 4,
   "metadata": {},
   "outputs": [],
   "source": [
    "import sqlite3\n",
    "from hjelpefunk import *  \n",
    "con = sqlite3.connect(\"db_01.db\")\n",
    "cursor = con.cursor()"
   ]
  },
  {
   "cell_type": "markdown",
   "metadata": {},
   "source": [
    "# Oppgave 4\n",
    "Her skal du implementere et Pythonprogram (med bruk av SQL) som tar inn\n",
    "en dato og skriver ut hvilke forestillinger som finnes på denne datoen og lister opp hvor mange billetter (dvs. stoler) som er solgt. Ta også med forestillinger hvor det ikke er solgt noen billetter."
   ]
  },
  {
   "cell_type": "code",
   "execution_count": 5,
   "metadata": {},
   "outputs": [
    {
     "name": "stdout",
     "output_type": "stream",
     "text": [
      "For 2024-02-03 er det følgende forestillinger og solgte billetter:\n",
      "-----------------------------\n",
      "Forestilling: Kongsemnene\n",
      "Antall solgte billetter: 65\n",
      "-----------------------------\n",
      "Forestilling: Storst av alt er kjaerligheten\n",
      "Antall solgte billetter: 27\n",
      "-----------------------------\n"
     ]
    }
   ],
   "source": [
    "#Hente ut dato\n",
    "wanted_date = input(\"Skriv inn dato (YYYY-MM-DD): \")\n",
    "\n",
    "sql = f'''SELECT Forestilling.*, Teaterstykke.TeaterstykkeNavn, COUNT(Billett.BillettID) as AntallBilletter\n",
    "            FROM Forestilling\n",
    "            JOIN Teaterstykke\n",
    "            ON Forestilling.TeaterstykkeNavn = Teaterstykke.TeaterstykkeNavn\n",
    "            JOIN Billett\n",
    "            ON Forestilling.ForestillingsID = Billett.ForestillingsID\n",
    "            WHERE Forestilling.dato = '{wanted_date}'\n",
    "            GROUP BY Teaterstykke.TeaterstykkeNavn; '''\n",
    "\n",
    "#Kjører SQL spørringen\n",
    "cursor.execute(sql)\n",
    "\n",
    "#Henter ut resultatet\n",
    "result = cursor.fetchall()\n",
    "\n",
    "#selekterer ønsket data\n",
    "play_result = [result[-2:] for result in result]\n",
    "\n",
    "#Går gjennom resultatet og printer ut\n",
    "print(f'For {wanted_date} er det følgende forestillinger og solgte billetter:')\n",
    "print('-----------------------------')\n",
    "for play in play_result:\n",
    "    print(f'Forestilling: {play[0]}')\n",
    "    print(f'Antall solgte billetter: {play[1]}')\n",
    "    print('-----------------------------')"
   ]
  },
  {
   "cell_type": "code",
   "execution_count": 6,
   "metadata": {},
   "outputs": [],
   "source": [
    "cursor.close()\n",
    "con.close()"
   ]
  }
 ],
 "metadata": {
  "kernelspec": {
   "display_name": "Python 3",
   "language": "python",
   "name": "python3"
  },
  "language_info": {
   "codemirror_mode": {
    "name": "ipython",
    "version": 3
   },
   "file_extension": ".py",
   "mimetype": "text/x-python",
   "name": "python",
   "nbconvert_exporter": "python",
   "pygments_lexer": "ipython3",
   "version": "3.10.6"
  }
 },
 "nbformat": 4,
 "nbformat_minor": 2
}
