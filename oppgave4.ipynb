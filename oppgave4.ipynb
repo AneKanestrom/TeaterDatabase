{
 "cells": [
  {
   "cell_type": "code",
   "execution_count": null,
   "metadata": {},
   "outputs": [],
   "source": [
    "import sqlite3\n",
    "from hjelpefunk import *  \n",
    "con = sqlite3.connect(\"newdatabase.db\")\n",
    "cursor = con.cursor()"
   ]
  },
  {
   "cell_type": "markdown",
   "metadata": {},
   "source": [
    "# Oppgave 4\n",
    "Her skal du implementere et Pythonprogram (med bruk av SQL) som tar inn\n",
    "en dato og skriver ut hvilke forestillinger som finnes på denne datoen og lister opp hvor mange billetter (dvs. stoler) som er solgt. Ta også med forestillinger hvor det ikke er solgt noen billetter."
   ]
  }
 ],
 "metadata": {
  "language_info": {
   "name": "python"
  }
 },
 "nbformat": 4,
 "nbformat_minor": 2
}
