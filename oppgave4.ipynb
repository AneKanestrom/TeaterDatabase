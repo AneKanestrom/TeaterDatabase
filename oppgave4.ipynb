{
 "cells": [
  {
   "cell_type": "code",
   "execution_count": 1,
   "metadata": {},
   "outputs": [],
   "source": [
    "import sqlite3\n",
    "from hjelpefunk import *  \n",
    "con = sqlite3.connect(\"db_01.db\")\n",
    "cursor = con.cursor()"
   ]
  },
  {
   "cell_type": "markdown",
   "metadata": {},
   "source": [
    "# Oppgave 4\n",
    "Her skal du implementere et Pythonprogram (med bruk av SQL) som tar inn\n",
    "en dato og skriver ut hvilke forestillinger som finnes på denne datoen og lister opp hvor mange billetter (dvs. stoler) som er solgt. Ta også med forestillinger hvor det ikke er solgt noen billetter."
   ]
  },
  {
   "cell_type": "code",
   "execution_count": 6,
   "metadata": {},
   "outputs": [
    {
     "ename": "NameError",
     "evalue": "name 'resulet' is not defined",
     "output_type": "error",
     "traceback": [
      "\u001b[0;31m---------------------------------------------------------------------------\u001b[0m",
      "\u001b[0;31mNameError\u001b[0m                                 Traceback (most recent call last)",
      "Cell \u001b[0;32mIn[6], line 19\u001b[0m\n\u001b[1;32m     16\u001b[0m \u001b[38;5;66;03m#Henter ut resultatet\u001b[39;00m\n\u001b[1;32m     17\u001b[0m result \u001b[38;5;241m=\u001b[39m cursor\u001b[38;5;241m.\u001b[39mfetchall()\n\u001b[0;32m---> 19\u001b[0m result \u001b[38;5;241m=\u001b[39m [resulet[\u001b[38;5;241m5\u001b[39m] \u001b[38;5;28;01mfor\u001b[39;00m result \u001b[38;5;129;01min\u001b[39;00m result]\n\u001b[1;32m     21\u001b[0m \u001b[38;5;28mprint\u001b[39m(result)\n\u001b[1;32m     23\u001b[0m \u001b[38;5;66;03m#Går gjennom resultatet og printer ut\u001b[39;00m\n",
      "Cell \u001b[0;32mIn[6], line 19\u001b[0m, in \u001b[0;36m<listcomp>\u001b[0;34m(.0)\u001b[0m\n\u001b[1;32m     16\u001b[0m \u001b[38;5;66;03m#Henter ut resultatet\u001b[39;00m\n\u001b[1;32m     17\u001b[0m result \u001b[38;5;241m=\u001b[39m cursor\u001b[38;5;241m.\u001b[39mfetchall()\n\u001b[0;32m---> 19\u001b[0m result \u001b[38;5;241m=\u001b[39m [\u001b[43mresulet\u001b[49m[\u001b[38;5;241m5\u001b[39m] \u001b[38;5;28;01mfor\u001b[39;00m result \u001b[38;5;129;01min\u001b[39;00m result]\n\u001b[1;32m     21\u001b[0m \u001b[38;5;28mprint\u001b[39m(result)\n\u001b[1;32m     23\u001b[0m \u001b[38;5;66;03m#Går gjennom resultatet og printer ut\u001b[39;00m\n",
      "\u001b[0;31mNameError\u001b[0m: name 'resulet' is not defined"
     ]
    }
   ],
   "source": [
    "#Hente ut dato\n",
    "wanted_date = '2024-02-03' #input(\"Skriv inn dato (YYYY-MM-DD): \")\n",
    "\n",
    "sql = f'''SELECT Forestilling.*, Teaterstykke.TeaterstykkeNavn, COUNT(Billett.BillettID) as AntallBilletter\n",
    "            FROM Forestilling\n",
    "            JOIN Teaterstykke\n",
    "            ON Forestilling.TeaterstykkeNavn = Teaterstykke.TeaterstykkeNavn\n",
    "            JOIN Billett\n",
    "            ON Forestilling.ForestillingsID = Billett.ForestillingsID\n",
    "            WHERE Forestilling.dato = '{wanted_date}'\n",
    "            GROUP BY Teaterstykke.TeaterstykkeNavn; '''\n",
    "\n",
    "#Kjører SQL spørringen\n",
    "cursor.execute(sql)\n",
    "\n",
    "#Henter ut resultatet\n",
    "result = cursor.fetchall()\n",
    "\n",
    "play_result = [result[5] for result in result]\n",
    "\n",
    "print(result)\n",
    "print(play_result)\n",
    "\n",
    "#Går gjennom resultatet og printer ut\n",
    "\"\"\" for row in result:\n",
    "    TeaterstykkeNavn = row[\"Teaterstykke.TeaterstykkeNavn\"]\n",
    "    AntallBilletter = row[\"AntallBilletter\"]\n",
    "\n",
    "    print(f'For teaterstykket {TeaterstykkeNavn} ble det solgt {AntallBilletter} billetter den {wanted_date}.')\n",
    " \"\"\"\n",
    "\n",
    "\"\"\" get_play_on_date = get_play_on_date(con, cursor, wanted_date)\n",
    "print(get_play_on_date) \"\"\""
   ]
  },
  {
   "cell_type": "code",
   "execution_count": 13,
   "metadata": {},
   "outputs": [],
   "source": [
    "cursor.close()\n",
    "con.close()"
   ]
  }
 ],
 "metadata": {
  "kernelspec": {
   "display_name": "Python 3",
   "language": "python",
   "name": "python3"
  },
  "language_info": {
   "codemirror_mode": {
    "name": "ipython",
    "version": 3
   },
   "file_extension": ".py",
   "mimetype": "text/x-python",
   "name": "python",
   "nbconvert_exporter": "python",
   "pygments_lexer": "ipython3",
   "version": "3.9.6"
  }
 },
 "nbformat": 4,
 "nbformat_minor": 2
}
