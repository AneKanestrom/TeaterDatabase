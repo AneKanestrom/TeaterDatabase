{
 "cells": [
  {
   "cell_type": "code",
   "execution_count": 1,
   "metadata": {},
   "outputs": [],
   "source": [
    "import sqlite3\n",
    "from hjelpefunk import *  \n",
    "con = sqlite3.connect(\"newdatabase.db\")\n",
    "cursor = con.cursor()"
   ]
  },
  {
   "cell_type": "markdown",
   "metadata": {},
   "source": [
    "# Oppgave 2\n",
    "Med oppgaven er det lagt ut noen filer som beskriver hvilke stoler som\n",
    "allerede er solgt til noen forestillinger. Her skal det lages Pythonprogram som\n",
    "leser filene og setter inn hvilke stoler som er solgt. Det er OK å sette inn\n",
    "stolene basert på disse filene også. Her er det ok at kjøper av de allerede\n",
    "solgte stolene er en standardbruker. dvs. samme forhåndsinnsatte bruker."
   ]
  },
  {
   "cell_type": "code",
   "execution_count": 2,
   "metadata": {},
   "outputs": [],
   "source": [
    "kundeID = 1\n",
    "#Legger til en ny kunde\n",
    "insert_row(con, 'KundeProfil',[kundeID, '12345678', 'Ola Normann', 'kongens gate 1'] )"
   ]
  },
  {
   "cell_type": "markdown",
   "metadata": {},
   "source": [
    "#### Hovedscenen"
   ]
  },
  {
   "cell_type": "code",
   "execution_count": null,
   "metadata": {},
   "outputs": [],
   "source": [
    "billettype = 'Ordinaer' \n",
    "billettpris = 450\n",
    "salnavn = 'Hovedscenen'\n",
    "billettID = 1\n",
    "#TODO: dette kan gjøres med en SQL spørring\n",
    "foresillingID = 3\n",
    "bilettkjopID = 1\n",
    "\n",
    "#Legger til billettkjøp for hovedscene\n",
    "insert_row(con, 'Billettkjop',[bilettkjopID, '2024-02-03', '00:00:00', kundeID] )\n",
    "\n",
    "lines = [] #Liste for å lagre linjer fra filen\n",
    "with open('hovedscenen.txt', 'r') as file:\n",
    "    for line in file:\n",
    "        lines.append(line.strip())\n",
    "\n",
    "dato = lines[0].split(' ')[1] #Datoen for bestillingen\n",
    "\n",
    "# Begynner med parketten\n",
    "\n",
    "omraade = lines[6]\n",
    "radnr = 1\n",
    "seteID = 1\n",
    "\n",
    "# looper fra bakerste rad (rad 1) til rad 18\n",
    "for line in lines[-1:6:-1]:\n",
    "    for character in line:\n",
    "        if character in '01':\n",
    "            add_seat(con, seteID, seteID, radnr, omraade, salnavn)\n",
    "\n",
    "        if character == '1':\n",
    "            book_seat(con, seteID, billettID, billettype, billettpris, bilettkjopID, foresillingID)\n",
    "            billettID += 1\n",
    "        \n",
    "        seteID += 1\n",
    "\n",
    "    radnr += 1\n",
    "\n",
    "\n",
    "# Etter parketten legger vi til for galleriet\n",
    "\n",
    "omraade = lines[1]\n",
    "radnr = 0 # Rad 0 er galleriet\n",
    "\n",
    "for line in lines[2:6]:\n",
    "    for character in line:\n",
    "        if character in '01':\n",
    "            add_seat(con, seteID, seteID, radnr, omraade, salnavn)\n",
    "\n",
    "        if character == '1':\n",
    "            book_seat(con, seteID, billettID, billettype, billettpris, bilettkjopID, foresillingID)\n",
    "            billettID += 1\n",
    "    \n",
    "        seteID += 1"
   ]
  },
  {
   "cell_type": "markdown",
   "metadata": {},
   "source": [
    "#### Gamle Scene"
   ]
  },
  {
   "cell_type": "code",
   "execution_count": null,
   "metadata": {},
   "outputs": [],
   "source": [
    "billettype = 'Ordinaer' \n",
    "billettpris = 350\n",
    "salnavn = 'Gamle Scene'\n",
    "#TODO: dette kan gjøres med en SQL spørring\n",
    "foresillingID = 6\n",
    "bilettkjopID = 2\n",
    "\n",
    "#Legger til billettkjøp for gamle scene\n",
    "insert_row(con, 'Billettkjop',[bilettkjopID, '2024-02-03', '00:00:00', kundeID] )\n",
    "\n",
    "lines = [] #Liste for å lagre linjer fra filen\n",
    "with open('gamle-scene.txt', 'r') as file:\n",
    "    for line in file:\n",
    "        lines.append(line.strip())\n",
    "\n",
    "dato = lines[0].split(' ')[1] #Datoen for bestillingen\n",
    "\n",
    "# Galleriet\n",
    "omraade = lines[1]\n",
    "radnr = 3\n",
    "\n",
    "for line in lines[2:5]:\n",
    "    seteNummer = 1\n",
    "    for character in line:\n",
    "        seteID = seteNummer + 1000\n",
    "        if character in '01':\n",
    "            add_seat(con, seteID, seteNummer, radnr, omraade, salnavn)\n",
    "\n",
    "        if character == '1':\n",
    "            book_seat(con, seteID, billettID, billettype, billettpris,  bilettkjopID, foresillingID)\n",
    "            billettID += 1\n",
    "        \n",
    "        seteNummer += 1\n",
    "\n",
    "    radnr -= 1\n",
    "\n",
    "\n",
    "# Balkong\n",
    "omraade = lines[5]\n",
    "radnr = 4\n",
    "\n",
    "for line in lines[6:9]:\n",
    "    seteNummer = 1\n",
    "    for character in line:\n",
    "        seteID = seteNummer + 1100\n",
    "        if character in '01':\n",
    "            add_seat(con, seteID, seteNummer, radnr, omraade, salnavn)\n",
    "\n",
    "        if character == '1':\n",
    "            book_seat(con, seteID, billettID, billettype, billettpris, bilettkjopID, foresillingID)\n",
    "            billettID += 1\n",
    "        \n",
    "        seteNummer += 1\n",
    "\n",
    "    radnr -= 1\n",
    "\n",
    "\n",
    "# Parkett\n",
    "omraade = lines[10]\n",
    "radnr = 10\n",
    "\n",
    "for line in lines[11:]:\n",
    "    seteNummer = 1\n",
    "    for character in line:\n",
    "        seteID = seteNummer + 1200\n",
    "        if character in '01':\n",
    "            add_seat(con, seteID, seteNummer, radnr, omraade, salnavn)\n",
    "\n",
    "        if character == '1':\n",
    "            book_seat(con, seteID, billettID, billettype, billettpris, bilettkjopID, foresillingID)\n",
    "            billettID += 1\n",
    "        \n",
    "        seteNummer += 1\n",
    "\n",
    "    radnr -= 1\n"
   ]
  },
  {
   "cell_type": "code",
   "execution_count": null,
   "metadata": {},
   "outputs": [],
   "source": [
    "cursor.close()\n",
    "con.close()"
   ]
  }
 ],
 "metadata": {
  "kernelspec": {
   "display_name": "Python 3",
   "language": "python",
   "name": "python3"
  },
  "language_info": {
   "codemirror_mode": {
    "name": "ipython",
    "version": 3
   },
   "file_extension": ".py",
   "mimetype": "text/x-python",
   "name": "python",
   "nbconvert_exporter": "python",
   "pygments_lexer": "ipython3",
   "version": "3.9.6"
  }
 },
 "nbformat": 4,
 "nbformat_minor": 2
}
