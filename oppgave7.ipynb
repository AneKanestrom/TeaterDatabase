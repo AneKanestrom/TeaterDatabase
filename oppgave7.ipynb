{
 "cells": [
  {
   "cell_type": "code",
   "execution_count": null,
   "metadata": {},
   "outputs": [],
   "source": [
    "import sqlite3\n",
    "from hjelpefunk import *  \n",
    "con = sqlite3.connect(\"newdatabase.db\")\n",
    "cursor = con.cursor()"
   ]
  },
  {
   "cell_type": "markdown",
   "metadata": {},
   "source": [
    "# Oppgave 7\n",
    "Du skal lage et Pythonprogram (og SQL) som tar et skuespillernavn og finner\n",
    "hvilke skuespilllere de har spilt med i samme akt. Skriv ut navn på begge og\n",
    "hvilket skuespill det skjedde."
   ]
  }
 ],
 "metadata": {
  "language_info": {
   "name": "python"
  }
 },
 "nbformat": 4,
 "nbformat_minor": 2
}
