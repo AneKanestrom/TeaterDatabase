{
 "cells": [
  {
   "cell_type": "markdown",
   "metadata": {},
   "source": [
    "# Oppgave 3\n"
   ]
  },
  {
   "cell_type": "code",
   "execution_count": 1,
   "metadata": {},
   "outputs": [],
   "source": [
    "import sqlite3\n",
    "from hjelpefunk import *  \n",
    "con = sqlite3.connect(\"newdatabase.db\")\n",
    "cursor = con.cursor()"
   ]
  },
  {
   "cell_type": "markdown",
   "metadata": {},
   "source": [
    "Her skal du kjøpe 9 voksenbilletter til forestillingen for Størst av alt er kjærligheten 3. februar, hvor det er 9 ledige billetter og hvor stolene er på samme rad. Stolene trenger ikke være ved siden av hverandre. Vi ønsker å få summert hva det koster å kjøpe disse billettene, men du trenger ikke ta hensyn til selve betalingen, den antar vi skjer på et annet system som dere ikke trenger å lage. Denne funksjonen skal implementeres i Python og SQL. "
   ]
  },
  {
   "cell_type": "code",
   "execution_count": 2,
   "metadata": {},
   "outputs": [
    {
     "name": "stdout",
     "output_type": "stream",
     "text": [
      "0\n"
     ]
    }
   ],
   "source": [
    "dato = '2024-02-03'\n",
    "type = 'ordinaer'\n",
    "pris = 350\n",
    "salnavn = \"GamleScene\"\n",
    "total_cost = 0\n",
    "\n",
    "lines = [] #Liste for å lagre linjer fra filen\n",
    "with open('gamle-scene.txt', 'r') as file:\n",
    "    for line in file:\n",
    "        lines.append(line.strip())\n",
    "\n",
    "\n",
    "# Galleriet\n",
    "omraade = lines[1]\n",
    "radnr = 3\n",
    "\n",
    "for line in lines[2:5]:\n",
    "    seteNummer = 0\n",
    "    for character in line:\n",
    "        if character == '0':\n",
    "        seteNummer += 1\n",
    "\n",
    "        if seteNummer > 10:\n",
    "            print(\"Du kan kjøpe 9 billetter på denne raden\")\n",
    "\n",
    "# Balkong\n",
    "omraade = lines[5]\n",
    "radnr = 4\n",
    "\n",
    "for line in lines[6:9]:\n",
    "    seteNummer = 0\n",
    "    for character in line:\n",
    "        if character == '0':\n",
    "        seteNummer += 1\n",
    "        if seteNummer > 10:\n",
    "            print(\"Du kan kjøpe 9 billetter på denne raden\")\n",
    "\n",
    "    radnr -= 1\n",
    "\n",
    "# Parkett\n",
    "omraade = lines[10]\n",
    "radnr = 10\n",
    "\n",
    "for line in lines[11:]:\n",
    "    seteNummer = 0\n",
    "    for character in line:\n",
    "        if character == '0':\n",
    "        seteNummer += 1\n",
    "        if seteNummer > 10:\n",
    "            print(\"Du kan kjøpe 9 billetter på denne raden\")\n",
    "\n"
   ]
  }
 ],
 "metadata": {
  "kernelspec": {
   "display_name": "Python 3",
   "language": "python",
   "name": "python3"
  },
  "language_info": {
   "codemirror_mode": {
    "name": "ipython",
    "version": 3
   },
   "file_extension": ".py",
   "mimetype": "text/x-python",
   "name": "python",
   "nbconvert_exporter": "python",
   "pygments_lexer": "ipython3",
   "version": "3.9.6"
  }
 },
 "nbformat": 4,
 "nbformat_minor": 2
}
