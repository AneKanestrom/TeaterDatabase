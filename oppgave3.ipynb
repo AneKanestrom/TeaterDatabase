{
 "cells": [
  {
   "cell_type": "markdown",
   "metadata": {},
   "source": [
    "# Oppgave 3\n"
   ]
  },
  {
   "cell_type": "code",
   "execution_count": 1,
   "metadata": {},
   "outputs": [],
   "source": [
    "import sqlite3\n",
    "from hjelpefunk import *  \n",
    "con = sqlite3.connect(\"db_01.db\")\n",
    "cursor = con.cursor()"
   ]
  },
  {
   "cell_type": "markdown",
   "metadata": {},
   "source": [
    "Her skal du kjøpe 9 voksenbilletter til forestillingen for Størst av alt er kjærligheten 3. februar, hvor det er 9 ledige billetter og hvor stolene er på samme rad. Stolene trenger ikke være ved siden av hverandre. Vi ønsker å få summert hva det koster å kjøpe disse billettene, men du trenger ikke ta hensyn til selve betalingen, den antar vi skjer på et annet system som dere ikke trenger å lage. Denne funksjonen skal implementeres i Python og SQL. "
   ]
  },
  {
   "cell_type": "code",
   "execution_count": 2,
   "metadata": {},
   "outputs": [
    {
     "name": "stdout",
     "output_type": "stream",
     "text": [
      "Velkommen til størst av alt er kjærligheten! ...\n",
      "Det koster 3150kr for 9 billetter i Galleri på rad 1.\n",
      "[1001, 1002, 1003, 1004, 1005, 1008, 1009, 1010, 1011, 1012, 1013, 1014, 1015, 1016, 1017, 1018, 1019, 1020, 1021, 1022, 1023, 1024, 1025, 1026, 1027, 1028, 1029, 1030, 1031, 1032, 1033]\n"
     ]
    }
   ],
   "source": [
    "#dato = '2024-02-03'\n",
    "#type = 'ordinaer'\n",
    "pris = 350\n",
    "salnavn = \"Gamle Scene\"\n",
    "#total_cost = 0\n",
    "forestillingID = 6\n",
    "\n",
    "wanted_tickets = 0\n",
    "wanted_area = ''\n",
    "wanted_row = 0\n",
    "\n",
    "running = True\n",
    "while running:\n",
    "    print(\"Velkommen til størst av alt er kjærligheten! ...\")\n",
    "    try:\n",
    "        wanted_tickets = 9 # int(input(\"Antall billetter ordinær (1-9): \"))\n",
    "        wanted_area = \"Galleri\" # input(\"Område (Galleri/Balkong/Parkett): \")\n",
    "        wanted_row = 1 # int(input(\"Radnummer (1-10): \"))\n",
    "    except:\n",
    "        print(\"Invalid input. Please try again.\")\n",
    "        continue\n",
    "\n",
    "    print(f\"Det koster {pris*wanted_tickets}kr for {wanted_tickets} billetter i {wanted_area} på rad {wanted_row}.\")\n",
    "    \n",
    "    avaliable_seats = get_avalible_seats(con, cursor, wanted_row, wanted_area, salnavn, forestillingID)\n",
    "    \n",
    "    print(avaliable_seats)\n",
    "    #TODO: Legge til setene i biletttkjop og printe bilettene som skal kjøpes!!!!\n",
    "    \n",
    "    running = False\n",
    "    \n",
    "\n",
    "    \n",
    "\n",
    "\n",
    "\n"
   ]
  },
  {
   "cell_type": "code",
   "execution_count": 3,
   "metadata": {},
   "outputs": [],
   "source": [
    "cursor.close()\n",
    "con.close()"
   ]
  }
 ],
 "metadata": {
  "kernelspec": {
   "display_name": "Python 3",
   "language": "python",
   "name": "python3"
  },
  "language_info": {
   "codemirror_mode": {
    "name": "ipython",
    "version": 3
   },
   "file_extension": ".py",
   "mimetype": "text/x-python",
   "name": "python",
   "nbconvert_exporter": "python",
   "pygments_lexer": "ipython3",
   "version": "3.9.6"
  }
 },
 "nbformat": 4,
 "nbformat_minor": 2
}
