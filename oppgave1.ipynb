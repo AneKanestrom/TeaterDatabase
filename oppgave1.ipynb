{
 "cells": [
  {
   "cell_type": "markdown",
   "metadata": {},
   "source": [
    "# Oppskrift\n",
    "\n",
    "Kjør ENTEN alle blokkene hver for seg, og se databasen oppdatere seg, ELLER trykk \"run all\" og legg til alt samtidig."
   ]
  },
  {
   "cell_type": "markdown",
   "metadata": {},
   "source": [
    "#### Tilkobling"
   ]
  },
  {
   "cell_type": "code",
   "execution_count": 1,
   "metadata": {},
   "outputs": [],
   "source": [
    "import sqlite3\n",
    "from hjelpefunk import *  \n",
    "con = sqlite3.connect(\"db_01.db\")\n",
    "cursor = con.cursor()"
   ]
  },
  {
   "cell_type": "markdown",
   "metadata": {},
   "source": [
    "# Oppgave 1\n",
    " Vi ønsker å sette inn de to salene nevnt over, sammen med stoler, teaterstykker, forestillinger, akter, roller, skuespillere og andre medvirkende, slik det er beskrevet i teksten over. Dette kan implementeres i SQL. \n"
   ]
  },
  {
   "cell_type": "markdown",
   "metadata": {},
   "source": [
    "Setter inn saler og stoler"
   ]
  },
  {
   "cell_type": "code",
   "execution_count": 5,
   "metadata": {},
   "outputs": [],
   "source": [
    "#Sal(\"SalNavn\", \"Kapasitet\")\n",
    "cursor.execute('''INSERT INTO Sal VALUES('Hovedscenen', 516)''')\n",
    "cursor.execute('''INSERT INTO Sal VALUES('Gamle Scene', 332)''')\n",
    "con.commit()"
   ]
  },
  {
   "cell_type": "markdown",
   "metadata": {},
   "source": [
    "Setter inn teaterstykker"
   ]
  },
  {
   "cell_type": "code",
   "execution_count": 6,
   "metadata": {},
   "outputs": [],
   "source": [
    "#Teaterstykke(\"TeaterstykkeNavn\")\n",
    "cursor.execute('''INSERT INTO Teaterstykke VALUES('Kongsemnene')''')\n",
    "cursor.execute('''INSERT INTO Teaterstykke VALUES('Storst av alt er kjaerligheten')''')\n",
    "con.commit()"
   ]
  },
  {
   "cell_type": "markdown",
   "metadata": {},
   "source": [
    "Setter inn forestillinger"
   ]
  },
  {
   "cell_type": "code",
   "execution_count": 3,
   "metadata": {},
   "outputs": [],
   "source": [
    "#Forestilling(ForestillingID, Dato, StartTid, \"Sesong\", \"SalNavn\", \"TeaterstykkeNavn\")\n",
    "sesong = \"vinter/vaarsesongen 2024\"\n",
    "forestilling1 = [1, '2024-02-01', '19:00:00', sesong, 'Hovedscenen', 'Kongsemnene']\n",
    "forestilling2 = [2, '2024-02-02', '19:00:00', sesong, 'Hovedscenen', 'Kongsemnene']\n",
    "forestilling3 = [3, '2024-02-03', '19:00:00', sesong, 'Hovedscenen', 'Kongsemnene']\n",
    "forestilling4 = [4, '2024-02-05', '19:00:00', sesong, 'Hovedscenen', 'Kongsemnene']\n",
    "forestilling5 = [5, '2024-02-06', '19:00:00', sesong, 'Hovedscenen', 'Kongsemnene']\n",
    "\n",
    "insert_row(con, 'Forestilling', forestilling1)\n",
    "insert_row(con, 'Forestilling', forestilling2)\n",
    "insert_row(con, 'Forestilling', forestilling3)  \n",
    "insert_row(con, 'Forestilling', forestilling4)\n",
    "insert_row(con, 'Forestilling', forestilling5)\n",
    "\n",
    "forestilling6 = [6, '2024-02-03', '18:30:00', sesong, 'Gamle Scene', 'Storst av alt er kjaerligheten']\n",
    "forestilling7 = [7, '2024-02-06', '18:30:00', sesong, 'Gamle Scene', 'Storst av alt er kjaerligheten']\n",
    "forestilling8 = [8, '2024-02-07', '18:30:00', sesong, 'Gamle Scene', 'Storst av alt er kjaerligheten']\n",
    "forestilling9 = [9, '2024-02-12', '18:30:00', sesong, 'Gamle Scene', 'Storst av alt er kjaerligheten']\n",
    "forestilling10 = [10, '2024-02-13', '18:30:00', sesong, 'Gamle Scene', 'Storst av alt er kjaerligheten']\n",
    "forestilling11 = [11, '2024-02-14', '18:30:00', sesong, 'Gamle Scene', 'Storst av alt er kjaerligheten']\n",
    "\n",
    "insert_row(con, 'Forestilling', forestilling6)\n",
    "insert_row(con, 'Forestilling', forestilling7)\n",
    "insert_row(con, 'Forestilling', forestilling8)\n",
    "insert_row(con, 'Forestilling', forestilling9)\n",
    "insert_row(con, 'Forestilling', forestilling10)\n",
    "insert_row(con, 'Forestilling', forestilling11)"
   ]
  },
  {
   "cell_type": "markdown",
   "metadata": {},
   "source": [
    "Setter inn akter"
   ]
  },
  {
   "cell_type": "code",
   "execution_count": 3,
   "metadata": {},
   "outputs": [],
   "source": [
    "#Akt(AktNr, \"AktNavn\", \"TeaterstykkeNavn\")\n",
    "cursor.execute('''INSERT INTO Akt VALUES(1, 'AktEn', 'Kongsemnene')''')\n",
    "cursor.execute('''INSERT INTO Akt VALUES(2, 'AktTo', 'Kongsemnene')''')\n",
    "cursor.execute('''INSERT INTO Akt VALUES(3, 'AktTre', 'Kongsemnene')''')\n",
    "cursor.execute('''INSERT INTO Akt VALUES(4, 'AktFire', 'Kongsemnene')''')\n",
    "cursor.execute('''INSERT INTO Akt VALUES(5, 'AktFem', 'Kongsemnene')''')\n",
    "cursor.execute('''INSERT INTO Akt VALUES(1, NULL, 'Storst av alt er kjaerligheten')''')\n",
    "con.commit()"
   ]
  },
  {
   "cell_type": "markdown",
   "metadata": {},
   "source": [
    "Setter inn roller"
   ]
  },
  {
   "cell_type": "code",
   "execution_count": 15,
   "metadata": {},
   "outputs": [],
   "source": [
    "#Rolle(RolleID, 'RolleNavn')\n",
    "\n",
    "#Kongsemnene\n",
    "cursor.execute('''INSERT INTO Rolle VALUES(1,'Haakon Haakonssonn')''')\n",
    "cursor.execute('''INSERT INTO Rolle VALUES(2,'Inga fra Vartjeg')''')\n",
    "cursor.execute('''INSERT INTO Rolle VALUES(3,'Skule Jarl')''')\n",
    "cursor.execute('''INSERT INTO Rolle VALUES(4,'Ragnhild')''')\n",
    "cursor.execute('''INSERT INTO Rolle VALUES(5,'Margrete')''')\n",
    "cursor.execute('''INSERT INTO Rolle VALUES(6,'Sigrid')''')\n",
    "cursor.execute('''INSERT INTO Rolle VALUES(7,'Ingebjorg')''')\n",
    "cursor.execute('''INSERT INTO Rolle VALUES(8,'Biskop Nikolas')''')\n",
    "cursor.execute('''INSERT INTO Rolle VALUES(9,'Gregorius Jonssonn')''')\n",
    "cursor.execute('''INSERT INTO Rolle VALUES(10,'Paal Flida')''')\n",
    "cursor.execute('''INSERT INTO Rolle VALUES(11,'Tronder')''')\n",
    "cursor.execute('''INSERT INTO Rolle VALUES(12,'Baard Bratte')''')\n",
    "cursor.execute('''INSERT INTO Rolle VALUES(13,'Tronder')''')\n",
    "cursor.execute('''INSERT INTO Rolle VALUES(14,'Jatgeir Skald')''')\n",
    "cursor.execute('''INSERT INTO Rolle VALUES(15,'Dagfinn Bonde')''')\n",
    "cursor.execute('''INSERT INTO Rolle VALUES(16,'Peter')''')\n",
    "\n",
    "#Størst av alt er kjærligheten\n",
    "cursor.execute('''INSERT INTO Rolle VALUES(17,'Sunniva Du Mond Nordal')''')\n",
    "cursor.execute('''INSERT INTO Rolle VALUES(18,'Jo Saberniak')''')\n",
    "cursor.execute('''INSERT INTO Rolle VALUES(19,'Marte M. Steinholt')''')\n",
    "cursor.execute('''INSERT INTO Rolle VALUES(20,'Tor Ivar Hagen')''')\n",
    "cursor.execute('''INSERT INTO Rolle VALUES(21,'Trond-Ove Skrodal')''')\n",
    "cursor.execute('''INSERT INTO Rolle VALUES(22,'Natalie Grondahl Tangen')''')\n",
    "cursor.execute('''INSERT INTO Rolle VALUES(23,'Aasmund Flaten')''')\n",
    "\n",
    "con.commit()"
   ]
  },
  {
   "cell_type": "markdown",
   "metadata": {},
   "source": [
    "Setter inn skuespillere"
   ]
  },
  {
   "cell_type": "code",
   "execution_count": 17,
   "metadata": {},
   "outputs": [],
   "source": [
    "#Skuespiller(SkuespillerID, \"SkuespillerNavn\")\n",
    "\n",
    "#Kongsemnene\n",
    "cursor.execute('''INSERT INTO Skuespiller VALUES(1, 'Arturo Scotti')''')\n",
    "cursor.execute('''INSERT INTO Skuespiller VALUES(2, 'Ingunn Beate Strige Oyen')''')\n",
    "cursor.execute('''INSERT INTO Skuespiller VALUES(3, 'Hans Petter Nilsen')''')\n",
    "cursor.execute('''INSERT INTO Skuespiller VALUES(4, 'Madeleine Brandtzaeg Nilsen')''')\n",
    "cursor.execute('''INSERT INTO Skuespiller VALUES(5, 'Synnove Fossum Eriksen')''')\n",
    "cursor.execute('''INSERT INTO Skuespiller VALUES(6, 'Emma Caroline Deichmann')''')\n",
    "cursor.execute('''INSERT INTO Skuespiller VALUES(7, 'Thomas Jensen Takyi')''')\n",
    "cursor.execute('''INSERT INTO Skuespiller VALUES(8, 'Per Bogstad Gulliksen')''')\n",
    "cursor.execute('''INSERT INTO Skuespiller VALUES(9, 'Isak Holmen Sorensen')''')\n",
    "cursor.execute('''INSERT INTO Skuespiller VALUES(10, 'Fabian Heidelberg Lunde')''')\n",
    "cursor.execute('''INSERT INTO Skuespiller VALUES(11, 'Emil Olafsson')''')\n",
    "cursor.execute('''INSERT INTO Skuespiller VALUES(12, 'Snorre Ryen Tondel')''')\n",
    "\n",
    "#Størst av alt er kjærligheten\n",
    "cursor.execute('''INSERT INTO Skuespiller VALUES(13, 'Sunniva Du Mond Nordal')''')\n",
    "cursor.execute('''INSERT INTO Skuespiller VALUES(14, 'Jo Saberniak')''')\n",
    "cursor.execute('''INSERT INTO Skuespiller VALUES(15, 'Marte M. Steinholt')''')\n",
    "cursor.execute('''INSERT INTO Skuespiller VALUES(16, 'Tor Ivar Hagen')''')\n",
    "cursor.execute('''INSERT INTO Skuespiller VALUES(17, 'Trond-Ove Skrodal')''')\n",
    "cursor.execute('''INSERT INTO Skuespiller VALUES(18, 'Natalie Grondahl Tangen')''')\n",
    "cursor.execute('''INSERT INTO Skuespiller VALUES(19, 'Aasmund Flaten')''')\n",
    "con.commit()"
   ]
  },
  {
   "cell_type": "markdown",
   "metadata": {},
   "source": [
    "Setter inn andre medvirkende (Ansatte)"
   ]
  },
  {
   "cell_type": "code",
   "execution_count": 11,
   "metadata": {},
   "outputs": [],
   "source": [
    "#Ansatt(AnsattID, 'AnsattNavn', 'Epost', 'Ansattstatus', 'Oppgave')\n",
    "cursor.execute('''INSERT INTO Ansatt VALUES(1,'Yury Butusov','butusov@trondelagteater.no','Fast','Regi')''')\n",
    "cursor.execute('''INSERT INTO Ansatt VALUES(2,'Yury Butusov','butusov@trondelagteater.no','Fast','Musikkutvelgelse')''')\n",
    "cursor.execute('''INSERT INTO Ansatt VALUES(3,'Aleksandr Shishkin-Hokusai','shishkinhokusai@trondelagteater.no','Midlertidig','Scenografi')''')\n",
    "cursor.execute('''INSERT INTO Ansatt VALUES(4,'Aleksandr Shishkin-Hokusai','shishkinhokusai@trondelagteater.no','Innleid','Kostymer')''')\n",
    "cursor.execute('''INSERT INTO Ansatt VALUES(5,'Eivind Myren','myren@trondelagteater.no','Fast','Lysdesign')''')\n",
    "cursor.execute('''INSERT INTO Ansatt VALUES(6,'Mina Rype Stokke','stokke@trondelagteater.no','Midlertidig','Dramaturg')''')\n",
    "con.commit()"
   ]
  },
  {
   "cell_type": "code",
   "execution_count": 3,
   "metadata": {},
   "outputs": [],
   "source": [
    "cursor.close()\n",
    "con.close()"
   ]
  }
 ],
 "metadata": {
  "kernelspec": {
   "display_name": "Python 3 (ipykernel)",
   "language": "python",
   "name": "python3"
  },
  "language_info": {
   "codemirror_mode": {
    "name": "ipython",
    "version": 3
   },
   "file_extension": ".py",
   "mimetype": "text/x-python",
   "name": "python",
   "nbconvert_exporter": "python",
   "pygments_lexer": "ipython3",
   "version": "3.10.6"
  }
 },
 "nbformat": 4,
 "nbformat_minor": 2
}
