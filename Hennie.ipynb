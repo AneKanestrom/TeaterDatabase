{
 "cells": [
  {
   "cell_type": "code",
   "execution_count": 4,
   "metadata": {},
   "outputs": [],
   "source": [
    "import sqlite3\n",
    "from hjelpefunk import *  \n",
    "con = sqlite3.connect(\"newdatabase.db\")\n",
    "cursor = con.cursor()"
   ]
  },
  {
   "cell_type": "code",
   "execution_count": null,
   "metadata": {},
   "outputs": [],
   "source": [
    "#Rolle(RolleID, 'RolleNavn')\n",
    "cursor.execute('''INSERT INTO Rolle VALUES(1,'Haakon Haakonssonn')''')\n",
    "cursor.execute('''INSERT INTO Rolle VALUES(2,'Inga fra Vartjeg')''')\n",
    "cursor.execute('''INSERT INTO Rolle VALUES(3,'Skule Jarl')''')\n",
    "cursor.execute('''INSERT INTO Rolle VALUES(4,'Ragnhild')''')\n",
    "cursor.execute('''INSERT INTO Rolle VALUES(5,'Margrete')''')\n",
    "cursor.execute('''INSERT INTO Rolle VALUES(6,'Sigrid')''')\n",
    "cursor.execute('''INSERT INTO Rolle VALUES(7,'Ingebjorg')''')\n",
    "cursor.execute('''INSERT INTO Rolle VALUES(8,'Biskop Nikolas')''')\n",
    "cursor.execute('''INSERT INTO Rolle VALUES(9,'Gregorius Jonssonn')''')\n",
    "cursor.execute('''INSERT INTO Rolle VALUES(10,'Paal Flida')''')\n",
    "cursor.execute('''INSERT INTO Rolle VALUES(11,'Tronder')''')\n",
    "cursor.execute('''INSERT INTO Rolle VALUES(12,'Baard Bratte')''')\n",
    "cursor.execute('''INSERT INTO Rolle VALUES(13,'Tronder')''')\n",
    "cursor.execute('''INSERT INTO Rolle VALUES(14,'Jatgeir Skald')''')\n",
    "cursor.execute('''INSERT INTO Rolle VALUES(15,'Dagfinn Bonde')''')\n",
    "cursor.execute('''INSERT INTO Rolle VALUES(16,'Peter')''')\n",
    "con.commit()"
   ]
  },
  {
   "cell_type": "code",
   "execution_count": 5,
   "metadata": {},
   "outputs": [],
   "source": [
    "#Ansatt(AnsattID, 'AnsattNavn', 'Epost', 'Ansattstatus', 'Oppgave')\n",
    "cursor.execute('''INSERT INTO Ansatt VALUES(1,'Yury Butusov','butusov@trøndelagteater.no','Fast','Regi')''')\n",
    "cursor.execute('''INSERT INTO Ansatt VALUES(2,'Yury Butusov','butusov@trøndelagteater.no','Fast','Musikkutvelgelse')''')\n",
    "cursor.execute('''INSERT INTO Ansatt VALUES(3,'Aleksandr Shishkin-Hokusai','shishkinhokusai@trøndelagteater.no','Midlertidig','Scenografi')''')\n",
    "cursor.execute('''INSERT INTO Ansatt VALUES(4,'Aleksandr Shishkin-Hokusai','shishkinhokusai@trøndelagteater.no','Innleid','Kostymer')''')\n",
    "cursor.execute('''INSERT INTO Ansatt VALUES(5,'Eivind Myren','myren@trøndelagteater.no','Fast','Lysdesign')''')\n",
    "cursor.execute('''INSERT INTO Ansatt VALUES(6,'Mina Rype Stokke','stokke@trøndelagteater.no','Midlertidig','Dramaturg')''')\n",
    "con.commit()"
   ]
  },
  {
   "cell_type": "code",
   "execution_count": 3,
   "metadata": {},
   "outputs": [],
   "source": [
    "cursor.close()\n",
    "con.close()"
   ]
  }
 ],
 "metadata": {
  "kernelspec": {
   "display_name": "Python 3",
   "language": "python",
   "name": "python3"
  },
  "language_info": {
   "codemirror_mode": {
    "name": "ipython",
    "version": 3
   },
   "file_extension": ".py",
   "mimetype": "text/x-python",
   "name": "python",
   "nbconvert_exporter": "python",
   "pygments_lexer": "ipython3",
   "version": "3.10.6"
  }
 },
 "nbformat": 4,
 "nbformat_minor": 2
}
