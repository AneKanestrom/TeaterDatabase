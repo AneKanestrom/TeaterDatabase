{
 "cells": [
  {
   "cell_type": "code",
   "execution_count": null,
   "metadata": {},
   "outputs": [],
   "source": [
    "#Skuespiller(SkuespillerID, \"SkuespillerNavn\")\n",
    "cursor.execute('''INSERT INTO Skuespiller VALUES(1, 'Arturo Scotti')''')\n",
    "cursor.execute('''INSERT INTO Skuespiller VALUES(2, 'Ingunn Beate Strige Oyen')''')\n",
    "cursor.execute('''INSERT INTO Skuespiller VALUES(3, 'Hans Petter Nilsen')''')\n",
    "cursor.execute('''INSERT INTO Skuespiller VALUES(4, 'Madeleine Brandtzaeg Nilsen')''')\n",
    "cursor.execute('''INSERT INTO Skuespiller VALUES(5, 'Synnove Fossum Eriksen')''')\n",
    "cursor.execute('''INSERT INTO Skuespiller VALUES(6, 'Emma Caroline Deichmann')''')\n",
    "cursor.execute('''INSERT INTO Skuespiller VALUES(7, 'Thomas Jensen Takyi')''')\n",
    "cursor.execute('''INSERT INTO Skuespiller VALUES(8, 'Per Bogstad Gulliksen')''')\n",
    "cursor.execute('''INSERT INTO Skuespiller VALUES(9, 'Isak Holmen Sorensen')''')\n",
    "cursor.execute('''INSERT INTO Skuespiller VALUES(10, 'Fabian Heidelberg Lunde')''')\n",
    "cursor.execute('''INSERT INTO Skuespiller VALUES(11, 'Emil Olafsson')''')\n",
    "cursor.execute('''INSERT INTO Skuespiller VALUES(12, 'Snorre Ryen Tondel')''')\n",
    "\n",
    "con.commit()"
   ]
  }
 ],
 "metadata": {
  "language_info": {
   "name": "python"
  }
 },
 "nbformat": 4,
 "nbformat_minor": 2
}
