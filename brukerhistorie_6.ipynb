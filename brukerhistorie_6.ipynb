{
 "cells": [
  {
   "cell_type": "markdown",
   "metadata": {},
   "source": [
    "# Oppskrift\n",
    "\n",
    "Trykk \"Run All\" for å:\n",
    "1. Legge til data i Billett og Billettkjøp\n",
    "2. Skrive ut navn på forestilling, dato og antall solgte plasser sortert i synkende rekkefølge"
   ]
  },
  {
   "cell_type": "markdown",
   "metadata": {},
   "source": [
    "#### Tilkobling"
   ]
  },
  {
   "cell_type": "code",
   "execution_count": 2,
   "metadata": {},
   "outputs": [],
   "source": [
    "import sqlite3\n",
    "from hjelpefunk import *  \n",
    "con = sqlite3.connect(\"db_01.db\")\n",
    "cursor = con.cursor()"
   ]
  },
  {
   "cell_type": "markdown",
   "metadata": {},
   "source": [
    "# Oppgave 6\n",
    "Vi ønsker å lage et query i SQL som finner hvilke forestillinger som har solgt best. Skriv ut navn på forestilling og dato og antall solgte plasser sortert på antall plasser i synkende rekkefølge."
   ]
  },
  {
   "cell_type": "markdown",
   "metadata": {},
   "source": [
    "#### Ekstra innsetning av data (kjøper flere seter) for å teste kode"
   ]
  },
  {
   "cell_type": "code",
   "execution_count": null,
   "metadata": {},
   "outputs": [],
   "source": [
    "#Legger til en ny kunde\n",
    "kundeID = 2\n",
    "insert_row(con, 'KundeProfil',[kundeID, '23787256', 'Kari Normann', 'dronningens gate 1'] )\n",
    "\n",
    "\n",
    "billettype_GS = 'Ordinaer' \n",
    "billettpris_GS = 350\n",
    "salnavn = 'GamleScene'\n",
    "forestillingID_GS = 8\n",
    "billettkjopID_GS = 3\n",
    "date_GS = '2024-02-07'\n",
    "\n",
    "#Legger til billettkjøp for gamle scene\n",
    "insert_row(con, 'Billettkjop',[billettkjopID_GS, date_GS, '00:00:00', kundeID] )\n",
    "insert_row(con, 'Billett', [93, billettype_GS, billettpris_GS, billettkjopID_GS, 1202, forestillingID_GS] )\n",
    "insert_row(con, 'Billett', [95, billettype_GS, billettpris_GS, billettkjopID_GS, 1203, forestillingID_GS] )\n",
    "\n",
    "\n",
    "billettype_HS = 'Ordinaer' \n",
    "billettpris_HS = 450\n",
    "salnavn = 'Hovedscenen'\n",
    "forestillingID_HS = 4\n",
    "billettkjopID_HS = 4\n",
    "date_HS = '2024-02-05'\n",
    "\n",
    "#Legger til billettkjøp for hoved scene\n",
    "insert_row(con, 'Billettkjop',[billettkjopID_HS, date_HS, '00:00:00', kundeID] )\n",
    "insert_row(con, 'Billett', [94, billettype_HS, billettpris_HS, billettkjopID_HS, 1, forestillingID_HS] )"
   ]
  },
  {
   "cell_type": "markdown",
   "metadata": {},
   "source": [
    "### SQL-spørring"
   ]
  },
  {
   "cell_type": "code",
   "execution_count": null,
   "metadata": {},
   "outputs": [],
   "source": [
    "# def forestilling_solgt_best(con, cursor):\n",
    "sql = f'''\n",
    "    SELECT Forestilling.TeaterstykkeNavn, Forestilling.Dato, COUNT(Billett.BillettID) AS AntallSolgtePlasser\n",
    "    FROM Forestilling \n",
    "    JOIN Billett ON Forestilling.ForestillingsID = Billett.ForestillingsID\n",
    "    GROUP BY Forestilling.TeaterstykkeNavn, Forestilling.Dato\n",
    "    ORDER BY AntallSolgtePlasser DESC;\n",
    "    '''\n",
    "\n",
    "# kjører SQL-spørringen\n",
    "cursor.execute(sql)\n",
    "\n",
    "# Henter alle resultatene fra spørringen\n",
    "result = cursor.fetchall()\n",
    "\n",
    "# Skriver ut navn på forestilling, dato og antall plasser solgt i synkende rekkefølge\n",
    "print('Forestilling sortert etter best solgt:')\n",
    "i=0\n",
    "for row in result:\n",
    "    i+=1\n",
    "    forestilling_navn, forestilling_dato, solgte_seter = row\n",
    "    print(f\"{i}. Navn på forestilling: {forestilling_navn}, dato: {forestilling_dato}, antall solgte plasser: {solgte_seter}\")"
   ]
  },
  {
   "cell_type": "code",
   "execution_count": 3,
   "metadata": {},
   "outputs": [],
   "source": [
    "cursor.close()\n",
    "con.close()"
   ]
  }
 ],
 "metadata": {
  "kernelspec": {
   "display_name": "Python 3",
   "language": "python",
   "name": "python3"
  },
  "language_info": {
   "codemirror_mode": {
    "name": "ipython",
    "version": 3
   },
   "file_extension": ".py",
   "mimetype": "text/x-python",
   "name": "python",
   "nbconvert_exporter": "python",
   "pygments_lexer": "ipython3",
   "version": "3.10.6"
  }
 },
 "nbformat": 4,
 "nbformat_minor": 2
}
