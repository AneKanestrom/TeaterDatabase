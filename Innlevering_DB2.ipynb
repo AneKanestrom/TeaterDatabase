{
 "cells": [
  {
   "cell_type": "markdown",
   "metadata": {},
   "source": [
    "# DB2python"
   ]
  },
  {
   "cell_type": "markdown",
   "metadata": {},
   "source": [
    "## Tilkobling"
   ]
  },
  {
   "cell_type": "code",
   "execution_count": null,
   "metadata": {},
   "outputs": [],
   "source": [
    "import sqlite3\n",
    "from hjelpefunk import *  \n",
    "con = sqlite3.connect(\"databasen_DB2.db\")\n",
    "cursor = con.cursor()"
   ]
  },
  {
   "cell_type": "markdown",
   "metadata": {},
   "source": [
    "### Bruk av hjelpefunksjoner"
   ]
  },
  {
   "cell_type": "code",
   "execution_count": null,
   "metadata": {},
   "outputs": [],
   "source": [
    "#eks sletting av rader\n",
    "\n",
    "#delete_rows(con, 'Sal', 'SalNavn', 'Hovedscenen')\n",
    "#delete_rows(con, 'Sal', 'SalNavn', 'GamleScene')\n",
    "\n",
    "#eks legge til rader \n",
    "#sal1 = ['test', 100]\n",
    "#insert_row(con, 'Sal', sal1)"
   ]
  },
  {
   "cell_type": "markdown",
   "metadata": {},
   "source": [
    "## Legge til eksisterende data"
   ]
  },
  {
   "cell_type": "code",
   "execution_count": null,
   "metadata": {},
   "outputs": [],
   "source": []
  },
  {
   "cell_type": "markdown",
   "metadata": {},
   "source": [
    "##### Oppgave 1\n",
    " Vi ønsker å sette inn de to salene nevnt over, sammen med stoler, teaterstykker, forestillinger, akter, roller, skuespillere og andre medvirkende, slik det er beskrevet i teksten over. Dette kan implementeres i SQL. \n"
   ]
  },
  {
   "cell_type": "code",
   "execution_count": null,
   "metadata": {},
   "outputs": [],
   "source": [
    "#Sal(\"SceneNavn\", \"Kapasitet\")\n",
    "cursor.execute('''INSERT INTO Sal VALUES('Hovedscenen', 516)''')\n",
    "cursor.execute('''INSERT INTO Sal VALUES('GamleScene', 332)''')\n",
    "con.commit()"
   ]
  },
  {
   "cell_type": "code",
   "execution_count": null,
   "metadata": {},
   "outputs": [],
   "source": [
    "#Akt(AktNr, \"AktNavn\", \"TeaterstykkeNavn\")\n",
    "cursor.execute('''INSERT INTO Akt VALUES(1, 'AktEn', 'Hovedscenen')''')\n",
    "cursor.execute('''INSERT INTO Akt VALUES(2, 'AktTo', 'Hovedscenen')''')\n",
    "cursor.execute('''INSERT INTO Akt VALUES(3, 'AktTre', 'Hovedscenen')''')\n",
    "cursor.execute('''INSERT INTO Akt VALUES(4, 'AktFire', 'Hovedscenen')''')\n",
    "cursor.execute('''INSERT INTO Akt VALUES(5, 'AktFem', 'Hovedscenen')''')\n",
    "cursor.execute('''INSERT INTO Akt VALUES(1, NULL, 'GamleScene')''')\n",
    "con.commit()"
   ]
  },
  {
   "cell_type": "markdown",
   "metadata": {},
   "source": [
    "##### "
   ]
  },
  {
   "cell_type": "code",
   "execution_count": null,
   "metadata": {},
   "outputs": [],
   "source": [
    "#ny tabell\n"
   ]
  },
  {
   "cell_type": "markdown",
   "metadata": {},
   "source": []
  },
  {
   "cell_type": "code",
   "execution_count": null,
   "metadata": {},
   "outputs": [],
   "source": [
    "cursor.close()\n",
    "con.close()"
   ]
  }
 ],
 "metadata": {
  "kernelspec": {
   "display_name": "Python 3 (ipykernel)",
   "language": "python",
   "name": "python3"
  },
  "language_info": {
   "codemirror_mode": {
    "name": "ipython",
    "version": 3
   },
   "file_extension": ".py",
   "mimetype": "text/x-python",
   "name": "python",
   "nbconvert_exporter": "python",
   "pygments_lexer": "ipython3",
   "version": "3.10.6"
  }
 },
 "nbformat": 4,
 "nbformat_minor": 2
}
