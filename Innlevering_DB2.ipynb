{
 "cells": [
  {
   "cell_type": "markdown",
   "metadata": {},
   "source": [
    "# DB2python"
   ]
  },
  {
   "cell_type": "markdown",
   "metadata": {},
   "source": [
    "## Tilkobling"
   ]
  },
  {
   "cell_type": "code",
   "execution_count": null,
   "metadata": {},
   "outputs": [],
   "source": [
    "import sqlite3\n",
    "from hjelpefunk import *  \n",
    "con = sqlite3.connect(\"newdatabase.db\")\n",
    "cursor = con.cursor()"
   ]
  },
  {
   "cell_type": "markdown",
   "metadata": {},
   "source": [
    "### Bruk av hjelpefunksjoner"
   ]
  },
  {
   "cell_type": "code",
   "execution_count": null,
   "metadata": {},
   "outputs": [],
   "source": [
    "#eks sletting av rader\n",
    "\n",
    "#delete_rows(con, 'Sal', 'SalNavn', 'Hovedscenen')\n",
    "#delete_rows(con, 'Sal', 'SalNavn', 'GamleScene')\n",
    "\n",
    "#eks legge til rader \n",
    "#sal1 = ['test', 100]\n",
    "#insert_row(con, 'Sal', sal1)"
   ]
  },
  {
   "cell_type": "markdown",
   "metadata": {},
   "source": [
    "## Legge til eksisterende data"
   ]
  },
  {
   "cell_type": "markdown",
   "metadata": {},
   "source": [
    "##### Oppgave 1\n",
    " Vi ønsker å sette inn de to salene nevnt over, sammen med stoler, teaterstykker, forestillinger, akter, roller, skuespillere og andre medvirkende, slik det er beskrevet i teksten over. Dette kan implementeres i SQL. \n"
   ]
  },
  {
   "cell_type": "code",
   "execution_count": null,
   "metadata": {},
   "outputs": [],
   "source": [
    "#Sal(\"SceneNavn\", \"Kapasitet\")\n",
    "cursor.execute('''INSERT INTO Sal VALUES('Hovedscenen', 516)''')\n",
    "cursor.execute('''INSERT INTO Sal VALUES('GamleScene', 332)''')\n",
    "con.commit()"
   ]
  },
  {
   "cell_type": "code",
   "execution_count": null,
   "metadata": {},
   "outputs": [],
   "source": [
    "#Akt(AktNr, \"AktNavn\", \"TeaterstykkeNavn\")\n",
    "cursor.execute('''INSERT INTO Akt VALUES(1, 'AktEn', 'Hovedscenen')''')\n",
    "cursor.execute('''INSERT INTO Akt VALUES(2, 'AktTo', 'Hovedscenen')''')\n",
    "cursor.execute('''INSERT INTO Akt VALUES(3, 'AktTre', 'Hovedscenen')''')\n",
    "cursor.execute('''INSERT INTO Akt VALUES(4, 'AktFire', 'Hovedscenen')''')\n",
    "cursor.execute('''INSERT INTO Akt VALUES(5, 'AktFem', 'Hovedscenen')''')\n",
    "cursor.execute('''INSERT INTO Akt VALUES(1, NULL, 'GamleScene')''')\n",
    "con.commit()"
   ]
  },
  {
   "cell_type": "code",
   "execution_count": null,
   "metadata": {},
   "outputs": [],
   "source": [
    "#Forestilling(ForestillingID, Dato, StartTid, \"Sesong\", \"SalNavn\", \"TeaterstykkeNavn\")\n",
    "sesong = \"vinter/vaarsesongen 2024\"\n",
    "forestilling1 = [1, '2024-02-01', '19:00:00', sesong, 'Hovedscenen', 'Kongsemnene']\n",
    "forestilling2 = [2, '2024-02-02', '19:00:00', sesong, 'Hovedscenen', 'Kongsemnene']\n",
    "forestilling3 = [3, '2024-02-03', '19:00:00', sesong, 'Hovedscenen', 'Kongsemnene']\n",
    "forestilling4 = [4, '2024-02-05', '19:00:00', sesong, 'Hovedscenen', 'Kongsemnene']\n",
    "forestilling5 = [5, '2024-02-06', '19:00:00', sesong, 'Hovedscenen', 'Kongsemnene']\n",
    "\n",
    "insert_row(con, 'Forestilling', forestilling1)\n",
    "insert_row(con, 'Forestilling', forestilling2)\n",
    "insert_row(con, 'Forestilling', forestilling3)  \n",
    "insert_row(con, 'Forestilling', forestilling4)\n",
    "insert_row(con, 'Forestilling', forestilling5)\n",
    "\n",
    "forestilling6 = [6, '2024-02-03', '18:30:00', sesong, 'GamleScene', 'Størst av alt er kjærligheten']\n",
    "forestilling7 = [7, '2024-02-06', '18:30:00', sesong, 'GamleScene', 'Størst av alt er kjærligheten']\n",
    "forestilling8 = [8, '2024-02-07', '18:30:00', sesong, 'GamleScene', 'Størst av alt er kjærligheten']\n",
    "forestilling9 = [9, '2024-02-12', '18:30:00', sesong, 'GamleScene', 'Størst av alt er kjærligheten']\n",
    "forestilling10 = [10, '2024-02-13', '18:30:00', sesong, 'GamleScene', 'Størst av alt er kjærligheten']\n",
    "forestilling11 = [11, '2024-02-14', '18:30:00', sesong, 'GamleScene', 'Størst av alt er kjærligheten']\n",
    "\n",
    "insert_row(con, 'Forestilling', forestilling6)\n",
    "insert_row(con, 'Forestilling', forestilling7)\n",
    "insert_row(con, 'Forestilling', forestilling8)\n",
    "insert_row(con, 'Forestilling', forestilling9)\n",
    "insert_row(con, 'Forestilling', forestilling10)\n",
    "insert_row(con, 'Forestilling', forestilling11)"
   ]
  },
  {
   "cell_type": "code",
   "execution_count": null,
   "metadata": {},
   "outputs": [],
   "source": [
    "cursor.close()\n",
    "con.close()"
   ]
  }
 ],
 "metadata": {
  "kernelspec": {
   "display_name": "Python 3 (ipykernel)",
   "language": "python",
   "name": "python3"
  },
  "language_info": {
   "codemirror_mode": {
    "name": "ipython",
    "version": 3
   },
   "file_extension": ".py",
   "mimetype": "text/x-python",
   "name": "python",
   "nbconvert_exporter": "python",
   "pygments_lexer": "ipython3",
   "version": "3.10.6"
  }
 },
 "nbformat": 4,
 "nbformat_minor": 2
}
