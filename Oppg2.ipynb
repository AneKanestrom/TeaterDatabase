{
 "cells": [
  {
   "cell_type": "code",
   "execution_count": 11,
   "metadata": {},
   "outputs": [],
   "source": [
    "import sqlite3\n",
    "from hjelpefunk import *  \n",
    "con = sqlite3.connect(\"db2.db\")\n",
    "cursor = con.cursor()"
   ]
  },
  {
   "cell_type": "markdown",
   "metadata": {},
   "source": [
    "# Oppgave 2\n",
    "Med oppgaven er det lagt ut noen filer som beskriver hvilke stoler som\n",
    "allerede er solgt til noen forestillinger. Her skal det lages Pythonprogram som\n",
    "leser filene og setter inn hvilke stoler som er solgt. Det er OK å sette inn\n",
    "stolene basert på disse filene også. Her er det ok at kjøper av de allerede\n",
    "solgte stolene er en standardbruker. dvs. samme forhåndsinnsatte bruker."
   ]
  },
  {
   "cell_type": "code",
   "execution_count": 5,
   "metadata": {},
   "outputs": [],
   "source": [
    "# Forhåndsinsatt bruker\n",
    "con.execute(\"INSERT INTO KundeProfil VALUES (0, '12345678', 'Ola Normann', 'Jervestien 6')\")\n",
    "con.commit()\n",
    "\n",
    "# Dato og tid\n",
    "now_date = get_date()\n",
    "now_time = get_time()"
   ]
  },
  {
   "cell_type": "markdown",
   "metadata": {},
   "source": [
    "## Hovedscenen"
   ]
  },
  {
   "cell_type": "code",
   "execution_count": 19,
   "metadata": {},
   "outputs": [
    {
     "name": "stdout",
     "output_type": "stream",
     "text": [
      "Parkett\n"
     ]
    }
   ],
   "source": [
    "forestillingsID = 1\n",
    "lines = []\n",
    "kjopID = 0\n",
    "\n",
    "with open('hovedscenen.txt', 'r') as file:\n",
    "    for line in file:\n",
    "        lines.append(line.strip())\n",
    "\n",
    "date = lines[0].split()[1]\n",
    "\n",
    "#Billettkjøp for alle stolene\n",
    "#con.execute(f\"INSERT INTO Billettkjop VALUES ({kjopID}, {date}, {now_time}, 0)\")\n",
    "\n",
    "# Ingen informasjon i oppgaven om billettype eller pris, så vi antar ordinær billett\n",
    "billettype = \"Ordinær\"\n",
    "pris = 450\n",
    "\n",
    "omraade = lines[1]\n",
    "\n",
    "for line in lines[2:6]:\n",
    "    if '1' in line:\n",
    "        print('Sete i galleri er kjøpt!')\n",
    "\n",
    "omraade = lines[6]\n",
    "\n",
    "    \n",
    "    \n",
    "    \n",
    "\n",
    "                \n",
    "    \n",
    "    \n",
    "    \n",
    "            \n",
    "\n",
    "\n",
    "#con.commit()\n"
   ]
  },
  {
   "cell_type": "markdown",
   "metadata": {},
   "source": [
    "## Gamle Scene"
   ]
  },
  {
   "cell_type": "code",
   "execution_count": null,
   "metadata": {},
   "outputs": [],
   "source": [
    "forestillingsID = 2"
   ]
  },
  {
   "cell_type": "code",
   "execution_count": null,
   "metadata": {},
   "outputs": [],
   "source": []
  },
  {
   "cell_type": "code",
   "execution_count": 6,
   "metadata": {},
   "outputs": [],
   "source": [
    "cursor.close()\n",
    "con.close()"
   ]
  }
 ],
 "metadata": {
  "kernelspec": {
   "display_name": "Python 3",
   "language": "python",
   "name": "python3"
  },
  "language_info": {
   "codemirror_mode": {
    "name": "ipython",
    "version": 3
   },
   "file_extension": ".py",
   "mimetype": "text/x-python",
   "name": "python",
   "nbconvert_exporter": "python",
   "pygments_lexer": "ipython3",
   "version": "3.9.6"
  }
 },
 "nbformat": 4,
 "nbformat_minor": 2
}
