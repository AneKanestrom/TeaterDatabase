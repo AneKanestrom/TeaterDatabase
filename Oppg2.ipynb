{
 "cells": [
  {
   "cell_type": "code",
   "execution_count": 11,
   "metadata": {},
   "outputs": [],
   "source": [
    "import sqlite3\n",
    "from hjelpefunk import *  \n",
    "con = sqlite3.connect(\"newdatabase.db\")\n",
    "cursor = con.cursor()"
   ]
  },
  {
   "cell_type": "markdown",
   "metadata": {},
   "source": [
    "# Oppgave 2\n",
    "Med oppgaven er det lagt ut noen filer som beskriver hvilke stoler som\n",
    "allerede er solgt til noen forestillinger. Her skal det lages Pythonprogram som\n",
    "leser filene og setter inn hvilke stoler som er solgt. Det er OK å sette inn\n",
    "stolene basert på disse filene også. Her er det ok at kjøper av de allerede\n",
    "solgte stolene er en standardbruker. dvs. samme forhåndsinnsatte bruker."
   ]
  },
  {
   "cell_type": "code",
   "execution_count": 6,
   "metadata": {},
   "outputs": [],
   "source": [
    "\n",
    "billettkjopID = 0\n",
    "billettype = 'Ordinaer' \n",
    "billettpris = 450\n",
    "salnavn = 'Hovedscenen'\n",
    "billettID = 1\n",
    "\n",
    "lines = [] #Liste for å lagre linjer fra filen\n",
    "with open('hovedscenen.txt', 'r') as file:\n",
    "    for line in file:\n",
    "        lines.append(line.strip())\n",
    "\n",
    "dato = lines[0].split(' ')[1] #Datoen for bestillingen\n",
    "\n",
    "tid = '00:00:00' #Tidspunkt for bestillingen\n",
    "\n",
    "#TODO: Legge inn Billettkjop med ID = 0, dato og tid\n",
    "\n",
    "\n",
    "# Begynner med parketten\n",
    "\n",
    "omraade = lines[6]\n",
    "radnr = 1\n",
    "seteID = 1\n",
    "\n",
    "# looper fra bakerste rad (rad 1) til rad 18\n",
    "for line in lines[-1:6:-1]:\n",
    "    for character in line:\n",
    "        if character in '01':\n",
    "            add_seat(seteID, radnr, omraade, salnavn)\n",
    "\n",
    "        if character == '1':\n",
    "            book_seat(seteID, billettID, billettype, billettpris)\n",
    "            billettID += 1\n",
    "        \n",
    "        seteID += 1\n",
    "\n",
    "    radnr += 1\n",
    "\n",
    "\n",
    "# Etter parketten legger vi til for galleriet\n",
    "\n",
    "omraade = lines[1]\n",
    "radnr = 0 # Rad 0 er galleriet\n",
    "\n",
    "for line in lines[2:6]:\n",
    "    for character in line:\n",
    "        if character in '01':\n",
    "            add_seat(seteID, radnr, omraade, salnavn)\n",
    "\n",
    "        if character == '1':\n",
    "            book_seat(seteID, billettID, billettype, billettpris)\n",
    "            billettID += 1\n",
    "    \n",
    "        seteID += 1"
   ]
  }
 ],
 "metadata": {
  "kernelspec": {
   "display_name": "Python 3",
   "language": "python",
   "name": "python3"
  },
  "language_info": {
   "codemirror_mode": {
    "name": "ipython",
    "version": 3
   },
   "file_extension": ".py",
   "mimetype": "text/x-python",
   "name": "python",
   "nbconvert_exporter": "python",
   "pygments_lexer": "ipython3",
   "version": "3.9.6"
  }
 },
 "nbformat": 4,
 "nbformat_minor": 2
}
